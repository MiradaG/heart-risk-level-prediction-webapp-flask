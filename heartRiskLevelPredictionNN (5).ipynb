{
 "cells": [
  {
   "cell_type": "code",
   "execution_count": 142,
   "id": "a10d36a5-8d36-4966-bf61-54ab9a48ebff",
   "metadata": {},
   "outputs": [
    {
     "data": {
      "text/html": [
       "<div>\n",
       "<style scoped>\n",
       "    .dataframe tbody tr th:only-of-type {\n",
       "        vertical-align: middle;\n",
       "    }\n",
       "\n",
       "    .dataframe tbody tr th {\n",
       "        vertical-align: top;\n",
       "    }\n",
       "\n",
       "    .dataframe thead th {\n",
       "        text-align: right;\n",
       "    }\n",
       "</style>\n",
       "<table border=\"1\" class=\"dataframe\">\n",
       "  <thead>\n",
       "    <tr style=\"text-align: right;\">\n",
       "      <th></th>\n",
       "      <th>SEX</th>\n",
       "      <th>AGEIR</th>\n",
       "      <th>TC</th>\n",
       "      <th>HDL</th>\n",
       "      <th>SMOKE_</th>\n",
       "      <th>BPMED</th>\n",
       "      <th>DIAB_01</th>\n",
       "      <th>RISK</th>\n",
       "    </tr>\n",
       "  </thead>\n",
       "  <tbody>\n",
       "    <tr>\n",
       "      <th>0</th>\n",
       "      <td>1</td>\n",
       "      <td>48</td>\n",
       "      <td>236</td>\n",
       "      <td>66</td>\n",
       "      <td>0</td>\n",
       "      <td>1</td>\n",
       "      <td>0</td>\n",
       "      <td>1.1</td>\n",
       "    </tr>\n",
       "    <tr>\n",
       "      <th>1</th>\n",
       "      <td>0</td>\n",
       "      <td>48</td>\n",
       "      <td>260</td>\n",
       "      <td>51</td>\n",
       "      <td>0</td>\n",
       "      <td>1</td>\n",
       "      <td>1</td>\n",
       "      <td>7.0</td>\n",
       "    </tr>\n",
       "    <tr>\n",
       "      <th>2</th>\n",
       "      <td>0</td>\n",
       "      <td>44</td>\n",
       "      <td>187</td>\n",
       "      <td>49</td>\n",
       "      <td>1</td>\n",
       "      <td>1</td>\n",
       "      <td>0</td>\n",
       "      <td>7.0</td>\n",
       "    </tr>\n",
       "    <tr>\n",
       "      <th>3</th>\n",
       "      <td>1</td>\n",
       "      <td>42</td>\n",
       "      <td>216</td>\n",
       "      <td>57</td>\n",
       "      <td>1</td>\n",
       "      <td>1</td>\n",
       "      <td>0</td>\n",
       "      <td>0.4</td>\n",
       "    </tr>\n",
       "    <tr>\n",
       "      <th>4</th>\n",
       "      <td>1</td>\n",
       "      <td>56</td>\n",
       "      <td>156</td>\n",
       "      <td>42</td>\n",
       "      <td>0</td>\n",
       "      <td>1</td>\n",
       "      <td>0</td>\n",
       "      <td>2.2</td>\n",
       "    </tr>\n",
       "    <tr>\n",
       "      <th>...</th>\n",
       "      <td>...</td>\n",
       "      <td>...</td>\n",
       "      <td>...</td>\n",
       "      <td>...</td>\n",
       "      <td>...</td>\n",
       "      <td>...</td>\n",
       "      <td>...</td>\n",
       "      <td>...</td>\n",
       "    </tr>\n",
       "    <tr>\n",
       "      <th>6639</th>\n",
       "      <td>1</td>\n",
       "      <td>65</td>\n",
       "      <td>307</td>\n",
       "      <td>42</td>\n",
       "      <td>1</td>\n",
       "      <td>0</td>\n",
       "      <td>1</td>\n",
       "      <td>36.6</td>\n",
       "    </tr>\n",
       "    <tr>\n",
       "      <th>6640</th>\n",
       "      <td>1</td>\n",
       "      <td>42</td>\n",
       "      <td>169</td>\n",
       "      <td>56</td>\n",
       "      <td>0</td>\n",
       "      <td>0</td>\n",
       "      <td>0</td>\n",
       "      <td>0.8</td>\n",
       "    </tr>\n",
       "    <tr>\n",
       "      <th>6641</th>\n",
       "      <td>0</td>\n",
       "      <td>65</td>\n",
       "      <td>212</td>\n",
       "      <td>35</td>\n",
       "      <td>1</td>\n",
       "      <td>0</td>\n",
       "      <td>0</td>\n",
       "      <td>30.6</td>\n",
       "    </tr>\n",
       "    <tr>\n",
       "      <th>6642</th>\n",
       "      <td>0</td>\n",
       "      <td>66</td>\n",
       "      <td>184</td>\n",
       "      <td>39</td>\n",
       "      <td>0</td>\n",
       "      <td>0</td>\n",
       "      <td>0</td>\n",
       "      <td>23.8</td>\n",
       "    </tr>\n",
       "    <tr>\n",
       "      <th>6643</th>\n",
       "      <td>1</td>\n",
       "      <td>45</td>\n",
       "      <td>203</td>\n",
       "      <td>51</td>\n",
       "      <td>0</td>\n",
       "      <td>1</td>\n",
       "      <td>0</td>\n",
       "      <td>1.0</td>\n",
       "    </tr>\n",
       "  </tbody>\n",
       "</table>\n",
       "<p>6644 rows × 8 columns</p>\n",
       "</div>"
      ],
      "text/plain": [
       "      SEX  AGEIR   TC  HDL  SMOKE_  BPMED  DIAB_01  RISK\n",
       "0       1     48  236   66       0      1        0   1.1\n",
       "1       0     48  260   51       0      1        1   7.0\n",
       "2       0     44  187   49       1      1        0   7.0\n",
       "3       1     42  216   57       1      1        0   0.4\n",
       "4       1     56  156   42       0      1        0   2.2\n",
       "...   ...    ...  ...  ...     ...    ...      ...   ...\n",
       "6639    1     65  307   42       1      0        1  36.6\n",
       "6640    1     42  169   56       0      0        0   0.8\n",
       "6641    0     65  212   35       1      0        0  30.6\n",
       "6642    0     66  184   39       0      0        0  23.8\n",
       "6643    1     45  203   51       0      1        0   1.0\n",
       "\n",
       "[6644 rows x 8 columns]"
      ]
     },
     "execution_count": 142,
     "metadata": {},
     "output_type": "execute_result"
    }
   ],
   "source": [
    "from matplotlib import pyplot as plt\n",
    "\n",
    "import pandas as pd\n",
    "import numpy as np\n",
    "\n",
    "df=pd.read_csv(r'C:\\Users\\Sandalika\\Documents\\deep learning workshop\\cardio_dataset.csv')\n",
    "df"
   ]
  },
  {
   "cell_type": "code",
   "execution_count": 143,
   "id": "23fde533-c7a2-4bcf-aea9-cc58c6c6e47b",
   "metadata": {},
   "outputs": [],
   "source": [
    "dataset=df.values\n",
    "data=dataset[:,0:7]\n",
    "target=dataset[:,7]"
   ]
  },
  {
   "cell_type": "code",
   "execution_count": 144,
   "id": "6464433b-7f2f-4aa9-be69-0f1ef9458e44",
   "metadata": {},
   "outputs": [],
   "source": [
    "from sklearn.preprocessing import MinMaxScaler\n",
    "target=np.reshape(target, (-1,1))\n",
    "\n",
    "scaler_data=MinMaxScaler(feature_range=(0,1))\n",
    "scaler_target=MinMaxScaler()\n",
    "\n",
    "#scaler_data.fit(data)\n",
    "#scaler_target.fit(target)\n",
    "\n",
    "data_scaled=scaler_data.fit_transform(data)\n",
    "target_scaled=scaler_target.fit_transform(target)"
   ]
  },
  {
   "cell_type": "code",
   "execution_count": 145,
   "id": "2494953e-9005-4bd9-8d2e-60785341511c",
   "metadata": {},
   "outputs": [
    {
     "name": "stdout",
     "output_type": "stream",
     "text": [
      "[[1.         0.20512821 0.40045249 0.29347826 0.         1.\n",
      "  0.        ]\n",
      " [0.         0.20512821 0.45475113 0.21195652 0.         1.\n",
      "  1.        ]\n",
      " [0.         0.1025641  0.28959276 0.20108696 1.         1.\n",
      "  0.        ]\n",
      " [1.         0.05128205 0.35520362 0.24456522 1.         1.\n",
      "  0.        ]\n",
      " [1.         0.41025641 0.21945701 0.16304348 0.         1.\n",
      "  0.        ]\n",
      " [0.         0.1025641  0.23303167 0.24456522 1.         1.\n",
      "  0.        ]\n",
      " [0.         0.25641026 0.41855204 0.19021739 0.         1.\n",
      "  0.        ]\n",
      " [0.         0.20512821 0.34615385 0.09782609 1.         1.\n",
      "  0.        ]\n",
      " [1.         0.66666667 0.32352941 0.22282609 0.         1.\n",
      "  1.        ]\n",
      " [0.         0.58974359 0.28733032 0.18478261 1.         1.\n",
      "  0.        ]]\n"
     ]
    }
   ],
   "source": [
    "print(data_scaled[:10])"
   ]
  },
  {
   "cell_type": "code",
   "execution_count": 146,
   "id": "864419b5-9147-4178-9ee9-bf5fd28f239d",
   "metadata": {},
   "outputs": [
    {
     "data": {
      "image/png": "[encoded data removed]",
      "text/plain": [
       "<Figure size 640x480 with 1 Axes>"
      ]
     },
     "metadata": {},
     "output_type": "display_data"
    }
   ],
   "source": [
    "#dataset before scaling \n",
    "plt.hist(data[:,2],bins=100)\n",
    "plt.title('Original TC')\n",
    "plt.xlabel('TC level')\n",
    "plt.ylabel('Frequency')\n",
    "plt.show()"
   ]
  },
  {
   "cell_type": "code",
   "execution_count": 147,
   "id": "6c64fa34-c039-4741-b8ff-19eee0aed7ef",
   "metadata": {},
   "outputs": [
    {
     "data": {
      "image/png": "[encoded data removed]",
      "text/plain": [
       "<Figure size 640x480 with 1 Axes>"
      ]
     },
     "metadata": {},
     "output_type": "display_data"
    }
   ],
   "source": [
    "#dataset after scaling\n",
    "plt.hist(data_scaled[:,2],bins=100)\n",
    "plt.title('Scaled TC')\n",
    "plt.xlabel('TC level')\n",
    "plt.ylabel('Frequency')\n",
    "plt.show()"
   ]
  },
  {
   "cell_type": "code",
   "execution_count": 148,
   "id": "ffcd8336-7017-4800-b5d8-09954345f723",
   "metadata": {},
   "outputs": [],
   "source": [
    "from sklearn.model_selection import train_test_split\n",
    "train_data, test_data, train_target, test_target= train_test_split(data_scaled, target_scaled, test_size=0.2)"
   ]
  },
  {
   "cell_type": "code",
   "execution_count": 149,
   "id": "81948c3d-1871-408b-97ad-3fb6aa84b74f",
   "metadata": {},
   "outputs": [
    {
     "name": "stderr",
     "output_type": "stream",
     "text": [
      "C:\\Users\\Sandalika\\anaconda3\\Lib\\site-packages\\keras\\src\\layers\\core\\dense.py:87: UserWarning: Do not pass an `input_shape`/`input_dim` argument to a layer. When using Sequential models, prefer using an `Input(shape)` object as the first layer in the model instead.\n",
      "  super().__init__(activity_regularizer=activity_regularizer, **kwargs)\n"
     ]
    },
    {
     "data": {
      "text/html": [
       "<pre style=\"white-space:pre;overflow-x:auto;line-height:normal;font-family:Menlo,'DejaVu Sans Mono',consolas,'Courier New',monospace\"><span style=\"font-weight: bold\">Model: \"sequential_6\"</span>\n",
       "</pre>\n"
      ],
      "text/plain": [
       "\u001b[1mModel: \"sequential_6\"\u001b[0m\n"
      ]
     },
     "metadata": {},
     "output_type": "display_data"
    },
    {
     "data": {
      "text/html": [
       "<pre style=\"white-space:pre;overflow-x:auto;line-height:normal;font-family:Menlo,'DejaVu Sans Mono',consolas,'Courier New',monospace\">┏━━━━━━━━━━━━━━━━━━━━━━━━━━━━━━━━━┳━━━━━━━━━━━━━━━━━━━━━━━━┳━━━━━━━━━━━━━━━┓\n",
       "┃<span style=\"font-weight: bold\"> Layer (type)                    </span>┃<span style=\"font-weight: bold\"> Output Shape           </span>┃<span style=\"font-weight: bold\">       Param # </span>┃\n",
       "┡━━━━━━━━━━━━━━━━━━━━━━━━━━━━━━━━━╇━━━━━━━━━━━━━━━━━━━━━━━━╇━━━━━━━━━━━━━━━┩\n",
       "│ dense_24 (<span style=\"color: #0087ff; text-decoration-color: #0087ff\">Dense</span>)                │ (<span style=\"color: #00d7ff; text-decoration-color: #00d7ff\">None</span>, <span style=\"color: #00af00; text-decoration-color: #00af00\">128</span>)            │         <span style=\"color: #00af00; text-decoration-color: #00af00\">1,024</span> │\n",
       "├─────────────────────────────────┼────────────────────────┼───────────────┤\n",
       "│ dropout_12 (<span style=\"color: #0087ff; text-decoration-color: #0087ff\">Dropout</span>)            │ (<span style=\"color: #00d7ff; text-decoration-color: #00d7ff\">None</span>, <span style=\"color: #00af00; text-decoration-color: #00af00\">128</span>)            │             <span style=\"color: #00af00; text-decoration-color: #00af00\">0</span> │\n",
       "├─────────────────────────────────┼────────────────────────┼───────────────┤\n",
       "│ dense_25 (<span style=\"color: #0087ff; text-decoration-color: #0087ff\">Dense</span>)                │ (<span style=\"color: #00d7ff; text-decoration-color: #00d7ff\">None</span>, <span style=\"color: #00af00; text-decoration-color: #00af00\">64</span>)             │         <span style=\"color: #00af00; text-decoration-color: #00af00\">8,256</span> │\n",
       "├─────────────────────────────────┼────────────────────────┼───────────────┤\n",
       "│ dropout_13 (<span style=\"color: #0087ff; text-decoration-color: #0087ff\">Dropout</span>)            │ (<span style=\"color: #00d7ff; text-decoration-color: #00d7ff\">None</span>, <span style=\"color: #00af00; text-decoration-color: #00af00\">64</span>)             │             <span style=\"color: #00af00; text-decoration-color: #00af00\">0</span> │\n",
       "├─────────────────────────────────┼────────────────────────┼───────────────┤\n",
       "│ dense_26 (<span style=\"color: #0087ff; text-decoration-color: #0087ff\">Dense</span>)                │ (<span style=\"color: #00d7ff; text-decoration-color: #00d7ff\">None</span>, <span style=\"color: #00af00; text-decoration-color: #00af00\">10</span>)             │           <span style=\"color: #00af00; text-decoration-color: #00af00\">650</span> │\n",
       "├─────────────────────────────────┼────────────────────────┼───────────────┤\n",
       "│ dense_27 (<span style=\"color: #0087ff; text-decoration-color: #0087ff\">Dense</span>)                │ (<span style=\"color: #00d7ff; text-decoration-color: #00d7ff\">None</span>, <span style=\"color: #00af00; text-decoration-color: #00af00\">1</span>)              │            <span style=\"color: #00af00; text-decoration-color: #00af00\">11</span> │\n",
       "└─────────────────────────────────┴────────────────────────┴───────────────┘\n",
       "</pre>\n"
      ],
      "text/plain": [
       "┏━━━━━━━━━━━━━━━━━━━━━━━━━━━━━━━━━┳━━━━━━━━━━━━━━━━━━━━━━━━┳━━━━━━━━━━━━━━━┓\n",
       "┃\u001b[1m \u001b[0m\u001b[1mLayer (type)                   \u001b[0m\u001b[1m \u001b[0m┃\u001b[1m \u001b[0m\u001b[1mOutput Shape          \u001b[0m\u001b[1m \u001b[0m┃\u001b[1m \u001b[0m\u001b[1m      Param #\u001b[0m\u001b[1m \u001b[0m┃\n",
       "┡━━━━━━━━━━━━━━━━━━━━━━━━━━━━━━━━━╇━━━━━━━━━━━━━━━━━━━━━━━━╇━━━━━━━━━━━━━━━┩\n",
       "│ dense_24 (\u001b[38;5;33mDense\u001b[0m)                │ (\u001b[38;5;45mNone\u001b[0m, \u001b[38;5;34m128\u001b[0m)            │         \u001b[38;5;34m1,024\u001b[0m │\n",
       "├─────────────────────────────────┼────────────────────────┼───────────────┤\n",
       "│ dropout_12 (\u001b[38;5;33mDropout\u001b[0m)            │ (\u001b[38;5;45mNone\u001b[0m, \u001b[38;5;34m128\u001b[0m)            │             \u001b[38;5;34m0\u001b[0m │\n",
       "├─────────────────────────────────┼────────────────────────┼───────────────┤\n",
       "│ dense_25 (\u001b[38;5;33mDense\u001b[0m)                │ (\u001b[38;5;45mNone\u001b[0m, \u001b[38;5;34m64\u001b[0m)             │         \u001b[38;5;34m8,256\u001b[0m │\n",
       "├─────────────────────────────────┼────────────────────────┼───────────────┤\n",
       "│ dropout_13 (\u001b[38;5;33mDropout\u001b[0m)            │ (\u001b[38;5;45mNone\u001b[0m, \u001b[38;5;34m64\u001b[0m)             │             \u001b[38;5;34m0\u001b[0m │\n",
       "├─────────────────────────────────┼────────────────────────┼───────────────┤\n",
       "│ dense_26 (\u001b[38;5;33mDense\u001b[0m)                │ (\u001b[38;5;45mNone\u001b[0m, \u001b[38;5;34m10\u001b[0m)             │           \u001b[38;5;34m650\u001b[0m │\n",
       "├─────────────────────────────────┼────────────────────────┼───────────────┤\n",
       "│ dense_27 (\u001b[38;5;33mDense\u001b[0m)                │ (\u001b[38;5;45mNone\u001b[0m, \u001b[38;5;34m1\u001b[0m)              │            \u001b[38;5;34m11\u001b[0m │\n",
       "└─────────────────────────────────┴────────────────────────┴───────────────┘\n"
      ]
     },
     "metadata": {},
     "output_type": "display_data"
    },
    {
     "data": {
      "text/html": [
       "<pre style=\"white-space:pre;overflow-x:auto;line-height:normal;font-family:Menlo,'DejaVu Sans Mono',consolas,'Courier New',monospace\"><span style=\"font-weight: bold\"> Total params: </span><span style=\"color: #00af00; text-decoration-color: #00af00\">9,941</span> (38.83 KB)\n",
       "</pre>\n"
      ],
      "text/plain": [
       "\u001b[1m Total params: \u001b[0m\u001b[38;5;34m9,941\u001b[0m (38.83 KB)\n"
      ]
     },
     "metadata": {},
     "output_type": "display_data"
    },
    {
     "data": {
      "text/html": [
       "<pre style=\"white-space:pre;overflow-x:auto;line-height:normal;font-family:Menlo,'DejaVu Sans Mono',consolas,'Courier New',monospace\"><span style=\"font-weight: bold\"> Trainable params: </span><span style=\"color: #00af00; text-decoration-color: #00af00\">9,941</span> (38.83 KB)\n",
       "</pre>\n"
      ],
      "text/plain": [
       "\u001b[1m Trainable params: \u001b[0m\u001b[38;5;34m9,941\u001b[0m (38.83 KB)\n"
      ]
     },
     "metadata": {},
     "output_type": "display_data"
    },
    {
     "data": {
      "text/html": [
       "<pre style=\"white-space:pre;overflow-x:auto;line-height:normal;font-family:Menlo,'DejaVu Sans Mono',consolas,'Courier New',monospace\"><span style=\"font-weight: bold\"> Non-trainable params: </span><span style=\"color: #00af00; text-decoration-color: #00af00\">0</span> (0.00 B)\n",
       "</pre>\n"
      ],
      "text/plain": [
       "\u001b[1m Non-trainable params: \u001b[0m\u001b[38;5;34m0\u001b[0m (0.00 B)\n"
      ]
     },
     "metadata": {},
     "output_type": "display_data"
    }
   ],
   "source": [
    "#FNN architecture\n",
    "from tensorflow.keras import metrics, losses\n",
    "from keras.models import Sequential\n",
    "from keras.layers import Dense,Dropout\n",
    "import numpy as np\n",
    "\n",
    "model=Sequential()\n",
    "model.add(Dense(128, input_dim=7, activation='relu'))\n",
    "model.add(Dropout(0.5))\n",
    "model.add(Dense(64, activation='relu'))\n",
    "model.add(Dropout(0.5))\n",
    "model.add(Dense(10,activation='relu'))\n",
    "model.add(Dense(1,activation='linear'))\n",
    "\n",
    "model.compile(\n",
    "    optimizer='adam',\n",
    "    loss=losses.MeanSquaredError(),\n",
    "    metrics=[metrics.MeanSquaredError(), metrics.MeanAbsoluteError()]\n",
    ")\n",
    "model.summary()"
   ]
  },
  {
   "cell_type": "code",
   "execution_count": 150,
   "id": "da54d457-06c1-4fe1-880f-305e004bab2c",
   "metadata": {},
   "outputs": [],
   "source": [
    "from keras.callbacks import ModelCheckpoint\n",
    "checkpoint =ModelCheckpoint('models/model-{epoch:03d}.keras', monitor='val_loss',save_best_only=True, mode='auto')"
   ]
  },
  {
   "cell_type": "code",
   "execution_count": 151,
   "id": "79249629-d489-456f-adef-bceb1611a01c",
   "metadata": {},
   "outputs": [
    {
     "name": "stdout",
     "output_type": "stream",
     "text": [
      "Epoch 1/200\n",
      "\u001b[1m167/167\u001b[0m \u001b[32m━━━━━━━━━━━━━━━━━━━━\u001b[0m\u001b[37m\u001b[0m \u001b[1m8s\u001b[0m 5ms/step - loss: 0.0346 - mean_absolute_error: 0.1302 - mean_squared_error: 0.0346 - val_loss: 0.0096 - val_mean_absolute_error: 0.0603 - val_mean_squared_error: 0.0096\n",
      "Epoch 2/200\n",
      "\u001b[1m167/167\u001b[0m \u001b[32m━━━━━━━━━━━━━━━━━━━━\u001b[0m\u001b[37m\u001b[0m \u001b[1m1s\u001b[0m 4ms/step - loss: 0.0109 - mean_absolute_error: 0.0706 - mean_squared_error: 0.0109 - val_loss: 0.0085 - val_mean_absolute_error: 0.0561 - val_mean_squared_error: 0.0085\n",
      "Epoch 3/200\n",
      "\u001b[1m167/167\u001b[0m \u001b[32m━━━━━━━━━━━━━━━━━━━━\u001b[0m\u001b[37m\u001b[0m \u001b[1m1s\u001b[0m 4ms/step - loss: 0.0084 - mean_absolute_error: 0.0615 - mean_squared_error: 0.0084 - val_loss: 0.0086 - val_mean_absolute_error: 0.0548 - val_mean_squared_error: 0.0086\n",
      "Epoch 4/200\n",
      "\u001b[1m167/167\u001b[0m \u001b[32m━━━━━━━━━━━━━━━━━━━━\u001b[0m\u001b[37m\u001b[0m \u001b[1m1s\u001b[0m 4ms/step - loss: 0.0072 - mean_absolute_error: 0.0559 - mean_squared_error: 0.0072 - val_loss: 0.0059 - val_mean_absolute_error: 0.0455 - val_mean_squared_error: 0.0059\n",
      "Epoch 5/200\n",
      "\u001b[1m167/167\u001b[0m \u001b[32m━━━━━━━━━━━━━━━━━━━━\u001b[0m\u001b[37m\u001b[0m \u001b[1m1s\u001b[0m 3ms/step - loss: 0.0067 - mean_absolute_error: 0.0533 - mean_squared_error: 0.0067 - val_loss: 0.0069 - val_mean_absolute_error: 0.0479 - val_mean_squared_error: 0.0069\n",
      "Epoch 6/200\n",
      "\u001b[1m167/167\u001b[0m \u001b[32m━━━━━━━━━━━━━━━━━━━━\u001b[0m\u001b[37m\u001b[0m \u001b[1m1s\u001b[0m 3ms/step - loss: 0.0063 - mean_absolute_error: 0.0515 - mean_squared_error: 0.0063 - val_loss: 0.0063 - val_mean_absolute_error: 0.0460 - val_mean_squared_error: 0.0063\n",
      "Epoch 7/200\n",
      "\u001b[1m167/167\u001b[0m \u001b[32m━━━━━━━━━━━━━━━━━━━━\u001b[0m\u001b[37m\u001b[0m \u001b[1m0s\u001b[0m 3ms/step - loss: 0.0057 - mean_absolute_error: 0.0493 - mean_squared_error: 0.0057 - val_loss: 0.0063 - val_mean_absolute_error: 0.0456 - val_mean_squared_error: 0.0063\n",
      "Epoch 8/200\n",
      "\u001b[1m167/167\u001b[0m \u001b[32m━━━━━━━━━━━━━━━━━━━━\u001b[0m\u001b[37m\u001b[0m \u001b[1m1s\u001b[0m 3ms/step - loss: 0.0057 - mean_absolute_error: 0.0485 - mean_squared_error: 0.0057 - val_loss: 0.0059 - val_mean_absolute_error: 0.0441 - val_mean_squared_error: 0.0059\n",
      "Epoch 9/200\n",
      "\u001b[1m167/167\u001b[0m \u001b[32m━━━━━━━━━━━━━━━━━━━━\u001b[0m\u001b[37m\u001b[0m \u001b[1m1s\u001b[0m 3ms/step - loss: 0.0052 - mean_absolute_error: 0.0468 - mean_squared_error: 0.0052 - val_loss: 0.0052 - val_mean_absolute_error: 0.0424 - val_mean_squared_error: 0.0052\n",
      "Epoch 10/200\n",
      "\u001b[1m167/167\u001b[0m \u001b[32m━━━━━━━━━━━━━━━━━━━━\u001b[0m\u001b[37m\u001b[0m \u001b[1m1s\u001b[0m 3ms/step - loss: 0.0055 - mean_absolute_error: 0.0476 - mean_squared_error: 0.0055 - val_loss: 0.0057 - val_mean_absolute_error: 0.0436 - val_mean_squared_error: 0.0057\n",
      "Epoch 11/200\n",
      "\u001b[1m167/167\u001b[0m \u001b[32m━━━━━━━━━━━━━━━━━━━━\u001b[0m\u001b[37m\u001b[0m \u001b[1m1s\u001b[0m 4ms/step - loss: 0.0049 - mean_absolute_error: 0.0452 - mean_squared_error: 0.0049 - val_loss: 0.0048 - val_mean_absolute_error: 0.0404 - val_mean_squared_error: 0.0048\n",
      "Epoch 12/200\n",
      "\u001b[1m167/167\u001b[0m \u001b[32m━━━━━━━━━━━━━━━━━━━━\u001b[0m\u001b[37m\u001b[0m \u001b[1m1s\u001b[0m 4ms/step - loss: 0.0048 - mean_absolute_error: 0.0442 - mean_squared_error: 0.0048 - val_loss: 0.0044 - val_mean_absolute_error: 0.0392 - val_mean_squared_error: 0.0044\n",
      "Epoch 13/200\n",
      "\u001b[1m167/167\u001b[0m \u001b[32m━━━━━━━━━━━━━━━━━━━━\u001b[0m\u001b[37m\u001b[0m \u001b[1m1s\u001b[0m 6ms/step - loss: 0.0044 - mean_absolute_error: 0.0435 - mean_squared_error: 0.0044 - val_loss: 0.0048 - val_mean_absolute_error: 0.0393 - val_mean_squared_error: 0.0048\n",
      "Epoch 14/200\n",
      "\u001b[1m167/167\u001b[0m \u001b[32m━━━━━━━━━━━━━━━━━━━━\u001b[0m\u001b[37m\u001b[0m \u001b[1m0s\u001b[0m 3ms/step - loss: 0.0047 - mean_absolute_error: 0.0439 - mean_squared_error: 0.0047 - val_loss: 0.0046 - val_mean_absolute_error: 0.0388 - val_mean_squared_error: 0.0046\n",
      "Epoch 15/200\n",
      "\u001b[1m167/167\u001b[0m \u001b[32m━━━━━━━━━━━━━━━━━━━━\u001b[0m\u001b[37m\u001b[0m \u001b[1m0s\u001b[0m 2ms/step - loss: 0.0047 - mean_absolute_error: 0.0437 - mean_squared_error: 0.0047 - val_loss: 0.0056 - val_mean_absolute_error: 0.0416 - val_mean_squared_error: 0.0056\n",
      "Epoch 16/200\n",
      "\u001b[1m167/167\u001b[0m \u001b[32m━━━━━━━━━━━━━━━━━━━━\u001b[0m\u001b[37m\u001b[0m \u001b[1m1s\u001b[0m 3ms/step - loss: 0.0049 - mean_absolute_error: 0.0443 - mean_squared_error: 0.0049 - val_loss: 0.0039 - val_mean_absolute_error: 0.0368 - val_mean_squared_error: 0.0039\n",
      "Epoch 17/200\n",
      "\u001b[1m167/167\u001b[0m \u001b[32m━━━━━━━━━━━━━━━━━━━━\u001b[0m\u001b[37m\u001b[0m \u001b[1m0s\u001b[0m 3ms/step - loss: 0.0042 - mean_absolute_error: 0.0417 - mean_squared_error: 0.0042 - val_loss: 0.0045 - val_mean_absolute_error: 0.0381 - val_mean_squared_error: 0.0045\n",
      "Epoch 18/200\n",
      "\u001b[1m167/167\u001b[0m \u001b[32m━━━━━━━━━━━━━━━━━━━━\u001b[0m\u001b[37m\u001b[0m \u001b[1m1s\u001b[0m 3ms/step - loss: 0.0047 - mean_absolute_error: 0.0429 - mean_squared_error: 0.0047 - val_loss: 0.0038 - val_mean_absolute_error: 0.0366 - val_mean_squared_error: 0.0038\n",
      "Epoch 19/200\n",
      "\u001b[1m167/167\u001b[0m \u001b[32m━━━━━━━━━━━━━━━━━━━━\u001b[0m\u001b[37m\u001b[0m \u001b[1m1s\u001b[0m 3ms/step - loss: 0.0039 - mean_absolute_error: 0.0410 - mean_squared_error: 0.0039 - val_loss: 0.0039 - val_mean_absolute_error: 0.0371 - val_mean_squared_error: 0.0039\n",
      "Epoch 20/200\n",
      "\u001b[1m167/167\u001b[0m \u001b[32m━━━━━━━━━━━━━━━━━━━━\u001b[0m\u001b[37m\u001b[0m \u001b[1m1s\u001b[0m 5ms/step - loss: 0.0042 - mean_absolute_error: 0.0417 - mean_squared_error: 0.0042 - val_loss: 0.0045 - val_mean_absolute_error: 0.0388 - val_mean_squared_error: 0.0045\n",
      "Epoch 21/200\n",
      "\u001b[1m167/167\u001b[0m \u001b[32m━━━━━━━━━━━━━━━━━━━━\u001b[0m\u001b[37m\u001b[0m \u001b[1m1s\u001b[0m 5ms/step - loss: 0.0040 - mean_absolute_error: 0.0409 - mean_squared_error: 0.0040 - val_loss: 0.0042 - val_mean_absolute_error: 0.0371 - val_mean_squared_error: 0.0042\n",
      "Epoch 22/200\n",
      "\u001b[1m167/167\u001b[0m \u001b[32m━━━━━━━━━━━━━━━━━━━━\u001b[0m\u001b[37m\u001b[0m \u001b[1m1s\u001b[0m 4ms/step - loss: 0.0043 - mean_absolute_error: 0.0417 - mean_squared_error: 0.0043 - val_loss: 0.0038 - val_mean_absolute_error: 0.0358 - val_mean_squared_error: 0.0038\n",
      "Epoch 23/200\n",
      "\u001b[1m167/167\u001b[0m \u001b[32m━━━━━━━━━━━━━━━━━━━━\u001b[0m\u001b[37m\u001b[0m \u001b[1m1s\u001b[0m 5ms/step - loss: 0.0040 - mean_absolute_error: 0.0405 - mean_squared_error: 0.0040 - val_loss: 0.0039 - val_mean_absolute_error: 0.0368 - val_mean_squared_error: 0.0039\n",
      "Epoch 24/200\n",
      "\u001b[1m167/167\u001b[0m \u001b[32m━━━━━━━━━━━━━━━━━━━━\u001b[0m\u001b[37m\u001b[0m \u001b[1m1s\u001b[0m 3ms/step - loss: 0.0043 - mean_absolute_error: 0.0418 - mean_squared_error: 0.0043 - val_loss: 0.0041 - val_mean_absolute_error: 0.0364 - val_mean_squared_error: 0.0041\n",
      "Epoch 25/200\n",
      "\u001b[1m167/167\u001b[0m \u001b[32m━━━━━━━━━━━━━━━━━━━━\u001b[0m\u001b[37m\u001b[0m \u001b[1m1s\u001b[0m 5ms/step - loss: 0.0038 - mean_absolute_error: 0.0399 - mean_squared_error: 0.0038 - val_loss: 0.0034 - val_mean_absolute_error: 0.0366 - val_mean_squared_error: 0.0034\n",
      "Epoch 26/200\n",
      "\u001b[1m167/167\u001b[0m \u001b[32m━━━━━━━━━━━━━━━━━━━━\u001b[0m\u001b[37m\u001b[0m \u001b[1m1s\u001b[0m 4ms/step - loss: 0.0040 - mean_absolute_error: 0.0407 - mean_squared_error: 0.0040 - val_loss: 0.0038 - val_mean_absolute_error: 0.0365 - val_mean_squared_error: 0.0038\n",
      "Epoch 27/200\n",
      "\u001b[1m167/167\u001b[0m \u001b[32m━━━━━━━━━━━━━━━━━━━━\u001b[0m\u001b[37m\u001b[0m \u001b[1m2s\u001b[0m 7ms/step - loss: 0.0039 - mean_absolute_error: 0.0400 - mean_squared_error: 0.0039 - val_loss: 0.0034 - val_mean_absolute_error: 0.0352 - val_mean_squared_error: 0.0034\n",
      "Epoch 28/200\n",
      "\u001b[1m167/167\u001b[0m \u001b[32m━━━━━━━━━━━━━━━━━━━━\u001b[0m\u001b[37m\u001b[0m \u001b[1m1s\u001b[0m 7ms/step - loss: 0.0038 - mean_absolute_error: 0.0396 - mean_squared_error: 0.0038 - val_loss: 0.0037 - val_mean_absolute_error: 0.0358 - val_mean_squared_error: 0.0037\n",
      "Epoch 29/200\n",
      "\u001b[1m167/167\u001b[0m \u001b[32m━━━━━━━━━━━━━━━━━━━━\u001b[0m\u001b[37m\u001b[0m \u001b[1m1s\u001b[0m 4ms/step - loss: 0.0038 - mean_absolute_error: 0.0404 - mean_squared_error: 0.0038 - val_loss: 0.0037 - val_mean_absolute_error: 0.0375 - val_mean_squared_error: 0.0037\n",
      "Epoch 30/200\n",
      "\u001b[1m167/167\u001b[0m \u001b[32m━━━━━━━━━━━━━━━━━━━━\u001b[0m\u001b[37m\u001b[0m \u001b[1m1s\u001b[0m 4ms/step - loss: 0.0037 - mean_absolute_error: 0.0388 - mean_squared_error: 0.0037 - val_loss: 0.0044 - val_mean_absolute_error: 0.0381 - val_mean_squared_error: 0.0044\n",
      "Epoch 31/200\n",
      "\u001b[1m167/167\u001b[0m \u001b[32m━━━━━━━━━━━━━━━━━━━━\u001b[0m\u001b[37m\u001b[0m \u001b[1m1s\u001b[0m 3ms/step - loss: 0.0039 - mean_absolute_error: 0.0391 - mean_squared_error: 0.0039 - val_loss: 0.0040 - val_mean_absolute_error: 0.0375 - val_mean_squared_error: 0.0040\n",
      "Epoch 32/200\n",
      "\u001b[1m167/167\u001b[0m \u001b[32m━━━━━━━━━━━━━━━━━━━━\u001b[0m\u001b[37m\u001b[0m \u001b[1m0s\u001b[0m 3ms/step - loss: 0.0040 - mean_absolute_error: 0.0407 - mean_squared_error: 0.0040 - val_loss: 0.0037 - val_mean_absolute_error: 0.0354 - val_mean_squared_error: 0.0037\n",
      "Epoch 33/200\n",
      "\u001b[1m167/167\u001b[0m \u001b[32m━━━━━━━━━━━━━━━━━━━━\u001b[0m\u001b[37m\u001b[0m \u001b[1m1s\u001b[0m 3ms/step - loss: 0.0038 - mean_absolute_error: 0.0393 - mean_squared_error: 0.0038 - val_loss: 0.0039 - val_mean_absolute_error: 0.0378 - val_mean_squared_error: 0.0039\n",
      "Epoch 34/200\n",
      "\u001b[1m167/167\u001b[0m \u001b[32m━━━━━━━━━━━━━━━━━━━━\u001b[0m\u001b[37m\u001b[0m \u001b[1m0s\u001b[0m 3ms/step - loss: 0.0036 - mean_absolute_error: 0.0394 - mean_squared_error: 0.0036 - val_loss: 0.0036 - val_mean_absolute_error: 0.0363 - val_mean_squared_error: 0.0036\n",
      "Epoch 35/200\n",
      "\u001b[1m167/167\u001b[0m \u001b[32m━━━━━━━━━━━━━━━━━━━━\u001b[0m\u001b[37m\u001b[0m \u001b[1m0s\u001b[0m 3ms/step - loss: 0.0038 - mean_absolute_error: 0.0395 - mean_squared_error: 0.0038 - val_loss: 0.0037 - val_mean_absolute_error: 0.0366 - val_mean_squared_error: 0.0037\n",
      "Epoch 36/200\n",
      "\u001b[1m167/167\u001b[0m \u001b[32m━━━━━━━━━━━━━━━━━━━━\u001b[0m\u001b[37m\u001b[0m \u001b[1m1s\u001b[0m 3ms/step - loss: 0.0037 - mean_absolute_error: 0.0393 - mean_squared_error: 0.0037 - val_loss: 0.0034 - val_mean_absolute_error: 0.0365 - val_mean_squared_error: 0.0034\n",
      "Epoch 37/200\n",
      "\u001b[1m167/167\u001b[0m \u001b[32m━━━━━━━━━━━━━━━━━━━━\u001b[0m\u001b[37m\u001b[0m \u001b[1m0s\u001b[0m 3ms/step - loss: 0.0037 - mean_absolute_error: 0.0387 - mean_squared_error: 0.0037 - val_loss: 0.0034 - val_mean_absolute_error: 0.0371 - val_mean_squared_error: 0.0034\n",
      "Epoch 38/200\n",
      "\u001b[1m167/167\u001b[0m \u001b[32m━━━━━━━━━━━━━━━━━━━━\u001b[0m\u001b[37m\u001b[0m \u001b[1m1s\u001b[0m 3ms/step - loss: 0.0038 - mean_absolute_error: 0.0399 - mean_squared_error: 0.0038 - val_loss: 0.0036 - val_mean_absolute_error: 0.0384 - val_mean_squared_error: 0.0036\n",
      "Epoch 39/200\n",
      "\u001b[1m167/167\u001b[0m \u001b[32m━━━━━━━━━━━━━━━━━━━━\u001b[0m\u001b[37m\u001b[0m \u001b[1m1s\u001b[0m 3ms/step - loss: 0.0037 - mean_absolute_error: 0.0396 - mean_squared_error: 0.0037 - val_loss: 0.0037 - val_mean_absolute_error: 0.0371 - val_mean_squared_error: 0.0037\n",
      "Epoch 40/200\n",
      "\u001b[1m167/167\u001b[0m \u001b[32m━━━━━━━━━━━━━━━━━━━━\u001b[0m\u001b[37m\u001b[0m \u001b[1m0s\u001b[0m 2ms/step - loss: 0.0038 - mean_absolute_error: 0.0398 - mean_squared_error: 0.0038 - val_loss: 0.0039 - val_mean_absolute_error: 0.0375 - val_mean_squared_error: 0.0039\n",
      "Epoch 41/200\n",
      "\u001b[1m167/167\u001b[0m \u001b[32m━━━━━━━━━━━━━━━━━━━━\u001b[0m\u001b[37m\u001b[0m \u001b[1m1s\u001b[0m 3ms/step - loss: 0.0035 - mean_absolute_error: 0.0382 - mean_squared_error: 0.0035 - val_loss: 0.0036 - val_mean_absolute_error: 0.0372 - val_mean_squared_error: 0.0036\n",
      "Epoch 42/200\n",
      "\u001b[1m167/167\u001b[0m \u001b[32m━━━━━━━━━━━━━━━━━━━━\u001b[0m\u001b[37m\u001b[0m \u001b[1m0s\u001b[0m 3ms/step - loss: 0.0036 - mean_absolute_error: 0.0386 - mean_squared_error: 0.0036 - val_loss: 0.0037 - val_mean_absolute_error: 0.0375 - val_mean_squared_error: 0.0037\n",
      "Epoch 43/200\n",
      "\u001b[1m167/167\u001b[0m \u001b[32m━━━━━━━━━━━━━━━━━━━━\u001b[0m\u001b[37m\u001b[0m \u001b[1m1s\u001b[0m 3ms/step - loss: 0.0038 - mean_absolute_error: 0.0397 - mean_squared_error: 0.0038 - val_loss: 0.0044 - val_mean_absolute_error: 0.0403 - val_mean_squared_error: 0.0044\n",
      "Epoch 44/200\n",
      "\u001b[1m167/167\u001b[0m \u001b[32m━━━━━━━━━━━━━━━━━━━━\u001b[0m\u001b[37m\u001b[0m \u001b[1m0s\u001b[0m 3ms/step - loss: 0.0036 - mean_absolute_error: 0.0388 - mean_squared_error: 0.0036 - val_loss: 0.0037 - val_mean_absolute_error: 0.0391 - val_mean_squared_error: 0.0037\n",
      "Epoch 45/200\n",
      "\u001b[1m167/167\u001b[0m \u001b[32m━━━━━━━━━━━━━━━━━━━━\u001b[0m\u001b[37m\u001b[0m \u001b[1m1s\u001b[0m 3ms/step - loss: 0.0034 - mean_absolute_error: 0.0383 - mean_squared_error: 0.0034 - val_loss: 0.0034 - val_mean_absolute_error: 0.0372 - val_mean_squared_error: 0.0034\n",
      "Epoch 46/200\n",
      "\u001b[1m167/167\u001b[0m \u001b[32m━━━━━━━━━━━━━━━━━━━━\u001b[0m\u001b[37m\u001b[0m \u001b[1m0s\u001b[0m 3ms/step - loss: 0.0040 - mean_absolute_error: 0.0406 - mean_squared_error: 0.0040 - val_loss: 0.0042 - val_mean_absolute_error: 0.0394 - val_mean_squared_error: 0.0042\n",
      "Epoch 47/200\n",
      "\u001b[1m167/167\u001b[0m \u001b[32m━━━━━━━━━━━━━━━━━━━━\u001b[0m\u001b[37m\u001b[0m \u001b[1m1s\u001b[0m 3ms/step - loss: 0.0035 - mean_absolute_error: 0.0386 - mean_squared_error: 0.0035 - val_loss: 0.0035 - val_mean_absolute_error: 0.0381 - val_mean_squared_error: 0.0035\n",
      "Epoch 48/200\n",
      "\u001b[1m167/167\u001b[0m \u001b[32m━━━━━━━━━━━━━━━━━━━━\u001b[0m\u001b[37m\u001b[0m \u001b[1m0s\u001b[0m 3ms/step - loss: 0.0036 - mean_absolute_error: 0.0390 - mean_squared_error: 0.0036 - val_loss: 0.0038 - val_mean_absolute_error: 0.0385 - val_mean_squared_error: 0.0038\n",
      "Epoch 49/200\n",
      "\u001b[1m167/167\u001b[0m \u001b[32m━━━━━━━━━━━━━━━━━━━━\u001b[0m\u001b[37m\u001b[0m \u001b[1m1s\u001b[0m 3ms/step - loss: 0.0036 - mean_absolute_error: 0.0391 - mean_squared_error: 0.0036 - val_loss: 0.0034 - val_mean_absolute_error: 0.0378 - val_mean_squared_error: 0.0034\n",
      "Epoch 50/200\n",
      "\u001b[1m167/167\u001b[0m \u001b[32m━━━━━━━━━━━━━━━━━━━━\u001b[0m\u001b[37m\u001b[0m \u001b[1m1s\u001b[0m 3ms/step - loss: 0.0037 - mean_absolute_error: 0.0393 - mean_squared_error: 0.0037 - val_loss: 0.0039 - val_mean_absolute_error: 0.0386 - val_mean_squared_error: 0.0039\n",
      "Epoch 51/200\n",
      "\u001b[1m167/167\u001b[0m \u001b[32m━━━━━━━━━━━━━━━━━━━━\u001b[0m\u001b[37m\u001b[0m \u001b[1m1s\u001b[0m 4ms/step - loss: 0.0038 - mean_absolute_error: 0.0397 - mean_squared_error: 0.0038 - val_loss: 0.0033 - val_mean_absolute_error: 0.0359 - val_mean_squared_error: 0.0033\n",
      "Epoch 52/200\n",
      "\u001b[1m167/167\u001b[0m \u001b[32m━━━━━━━━━━━━━━━━━━━━\u001b[0m\u001b[37m\u001b[0m \u001b[1m1s\u001b[0m 3ms/step - loss: 0.0034 - mean_absolute_error: 0.0377 - mean_squared_error: 0.0034 - val_loss: 0.0036 - val_mean_absolute_error: 0.0370 - val_mean_squared_error: 0.0036\n",
      "Epoch 53/200\n",
      "\u001b[1m167/167\u001b[0m \u001b[32m━━━━━━━━━━━━━━━━━━━━\u001b[0m\u001b[37m\u001b[0m \u001b[1m1s\u001b[0m 3ms/step - loss: 0.0035 - mean_absolute_error: 0.0384 - mean_squared_error: 0.0035 - val_loss: 0.0036 - val_mean_absolute_error: 0.0374 - val_mean_squared_error: 0.0036\n",
      "Epoch 54/200\n",
      "\u001b[1m167/167\u001b[0m \u001b[32m━━━━━━━━━━━━━━━━━━━━\u001b[0m\u001b[37m\u001b[0m \u001b[1m1s\u001b[0m 4ms/step - loss: 0.0036 - mean_absolute_error: 0.0386 - mean_squared_error: 0.0036 - val_loss: 0.0032 - val_mean_absolute_error: 0.0369 - val_mean_squared_error: 0.0032\n",
      "Epoch 55/200\n",
      "\u001b[1m167/167\u001b[0m \u001b[32m━━━━━━━━━━━━━━━━━━━━\u001b[0m\u001b[37m\u001b[0m \u001b[1m1s\u001b[0m 3ms/step - loss: 0.0035 - mean_absolute_error: 0.0385 - mean_squared_error: 0.0035 - val_loss: 0.0035 - val_mean_absolute_error: 0.0357 - val_mean_squared_error: 0.0035\n",
      "Epoch 56/200\n",
      "\u001b[1m167/167\u001b[0m \u001b[32m━━━━━━━━━━━━━━━━━━━━\u001b[0m\u001b[37m\u001b[0m \u001b[1m1s\u001b[0m 3ms/step - loss: 0.0039 - mean_absolute_error: 0.0395 - mean_squared_error: 0.0039 - val_loss: 0.0033 - val_mean_absolute_error: 0.0378 - val_mean_squared_error: 0.0033\n",
      "Epoch 57/200\n",
      "\u001b[1m167/167\u001b[0m \u001b[32m━━━━━━━━━━━━━━━━━━━━\u001b[0m\u001b[37m\u001b[0m \u001b[1m1s\u001b[0m 3ms/step - loss: 0.0037 - mean_absolute_error: 0.0394 - mean_squared_error: 0.0037 - val_loss: 0.0041 - val_mean_absolute_error: 0.0392 - val_mean_squared_error: 0.0041\n",
      "Epoch 58/200\n",
      "\u001b[1m167/167\u001b[0m \u001b[32m━━━━━━━━━━━━━━━━━━━━\u001b[0m\u001b[37m\u001b[0m \u001b[1m1s\u001b[0m 3ms/step - loss: 0.0037 - mean_absolute_error: 0.0390 - mean_squared_error: 0.0037 - val_loss: 0.0036 - val_mean_absolute_error: 0.0367 - val_mean_squared_error: 0.0036\n",
      "Epoch 59/200\n",
      "\u001b[1m167/167\u001b[0m \u001b[32m━━━━━━━━━━━━━━━━━━━━\u001b[0m\u001b[37m\u001b[0m \u001b[1m1s\u001b[0m 3ms/step - loss: 0.0037 - mean_absolute_error: 0.0387 - mean_squared_error: 0.0037 - val_loss: 0.0033 - val_mean_absolute_error: 0.0367 - val_mean_squared_error: 0.0033\n",
      "Epoch 60/200\n",
      "\u001b[1m167/167\u001b[0m \u001b[32m━━━━━━━━━━━━━━━━━━━━\u001b[0m\u001b[37m\u001b[0m \u001b[1m1s\u001b[0m 3ms/step - loss: 0.0035 - mean_absolute_error: 0.0384 - mean_squared_error: 0.0035 - val_loss: 0.0038 - val_mean_absolute_error: 0.0371 - val_mean_squared_error: 0.0038\n",
      "Epoch 61/200\n",
      "\u001b[1m167/167\u001b[0m \u001b[32m━━━━━━━━━━━━━━━━━━━━\u001b[0m\u001b[37m\u001b[0m \u001b[1m0s\u001b[0m 3ms/step - loss: 0.0034 - mean_absolute_error: 0.0377 - mean_squared_error: 0.0034 - val_loss: 0.0034 - val_mean_absolute_error: 0.0360 - val_mean_squared_error: 0.0034\n",
      "Epoch 62/200\n",
      "\u001b[1m167/167\u001b[0m \u001b[32m━━━━━━━━━━━━━━━━━━━━\u001b[0m\u001b[37m\u001b[0m \u001b[1m1s\u001b[0m 3ms/step - loss: 0.0035 - mean_absolute_error: 0.0388 - mean_squared_error: 0.0035 - val_loss: 0.0038 - val_mean_absolute_error: 0.0368 - val_mean_squared_error: 0.0038\n",
      "Epoch 63/200\n",
      "\u001b[1m167/167\u001b[0m \u001b[32m━━━━━━━━━━━━━━━━━━━━\u001b[0m\u001b[37m\u001b[0m \u001b[1m1s\u001b[0m 3ms/step - loss: 0.0037 - mean_absolute_error: 0.0389 - mean_squared_error: 0.0037 - val_loss: 0.0038 - val_mean_absolute_error: 0.0377 - val_mean_squared_error: 0.0038\n",
      "Epoch 64/200\n",
      "\u001b[1m167/167\u001b[0m \u001b[32m━━━━━━━━━━━━━━━━━━━━\u001b[0m\u001b[37m\u001b[0m \u001b[1m1s\u001b[0m 3ms/step - loss: 0.0036 - mean_absolute_error: 0.0376 - mean_squared_error: 0.0036 - val_loss: 0.0036 - val_mean_absolute_error: 0.0373 - val_mean_squared_error: 0.0036\n",
      "Epoch 65/200\n",
      "\u001b[1m167/167\u001b[0m \u001b[32m━━━━━━━━━━━━━━━━━━━━\u001b[0m\u001b[37m\u001b[0m \u001b[1m1s\u001b[0m 3ms/step - loss: 0.0036 - mean_absolute_error: 0.0394 - mean_squared_error: 0.0036 - val_loss: 0.0036 - val_mean_absolute_error: 0.0368 - val_mean_squared_error: 0.0036\n",
      "Epoch 66/200\n",
      "\u001b[1m167/167\u001b[0m \u001b[32m━━━━━━━━━━━━━━━━━━━━\u001b[0m\u001b[37m\u001b[0m \u001b[1m1s\u001b[0m 3ms/step - loss: 0.0034 - mean_absolute_error: 0.0380 - mean_squared_error: 0.0034 - val_loss: 0.0033 - val_mean_absolute_error: 0.0375 - val_mean_squared_error: 0.0033\n",
      "Epoch 67/200\n",
      "\u001b[1m167/167\u001b[0m \u001b[32m━━━━━━━━━━━━━━━━━━━━\u001b[0m\u001b[37m\u001b[0m \u001b[1m1s\u001b[0m 3ms/step - loss: 0.0038 - mean_absolute_error: 0.0390 - mean_squared_error: 0.0038 - val_loss: 0.0033 - val_mean_absolute_error: 0.0368 - val_mean_squared_error: 0.0033\n",
      "Epoch 68/200\n",
      "\u001b[1m167/167\u001b[0m \u001b[32m━━━━━━━━━━━━━━━━━━━━\u001b[0m\u001b[37m\u001b[0m \u001b[1m0s\u001b[0m 3ms/step - loss: 0.0035 - mean_absolute_error: 0.0374 - mean_squared_error: 0.0035 - val_loss: 0.0038 - val_mean_absolute_error: 0.0369 - val_mean_squared_error: 0.0038\n",
      "Epoch 69/200\n",
      "\u001b[1m167/167\u001b[0m \u001b[32m━━━━━━━━━━━━━━━━━━━━\u001b[0m\u001b[37m\u001b[0m \u001b[1m1s\u001b[0m 3ms/step - loss: 0.0034 - mean_absolute_error: 0.0373 - mean_squared_error: 0.0034 - val_loss: 0.0036 - val_mean_absolute_error: 0.0394 - val_mean_squared_error: 0.0036\n",
      "Epoch 70/200\n",
      "\u001b[1m167/167\u001b[0m \u001b[32m━━━━━━━━━━━━━━━━━━━━\u001b[0m\u001b[37m\u001b[0m \u001b[1m1s\u001b[0m 3ms/step - loss: 0.0035 - mean_absolute_error: 0.0385 - mean_squared_error: 0.0035 - val_loss: 0.0033 - val_mean_absolute_error: 0.0367 - val_mean_squared_error: 0.0033\n",
      "Epoch 71/200\n",
      "\u001b[1m167/167\u001b[0m \u001b[32m━━━━━━━━━━━━━━━━━━━━\u001b[0m\u001b[37m\u001b[0m \u001b[1m0s\u001b[0m 2ms/step - loss: 0.0038 - mean_absolute_error: 0.0385 - mean_squared_error: 0.0038 - val_loss: 0.0034 - val_mean_absolute_error: 0.0350 - val_mean_squared_error: 0.0034\n",
      "Epoch 72/200\n",
      "\u001b[1m167/167\u001b[0m \u001b[32m━━━━━━━━━━━━━━━━━━━━\u001b[0m\u001b[37m\u001b[0m \u001b[1m1s\u001b[0m 3ms/step - loss: 0.0036 - mean_absolute_error: 0.0384 - mean_squared_error: 0.0036 - val_loss: 0.0035 - val_mean_absolute_error: 0.0347 - val_mean_squared_error: 0.0035\n",
      "Epoch 73/200\n",
      "\u001b[1m167/167\u001b[0m \u001b[32m━━━━━━━━━━━━━━━━━━━━\u001b[0m\u001b[37m\u001b[0m \u001b[1m1s\u001b[0m 3ms/step - loss: 0.0035 - mean_absolute_error: 0.0377 - mean_squared_error: 0.0035 - val_loss: 0.0032 - val_mean_absolute_error: 0.0363 - val_mean_squared_error: 0.0032\n",
      "Epoch 74/200\n",
      "\u001b[1m167/167\u001b[0m \u001b[32m━━━━━━━━━━━━━━━━━━━━\u001b[0m\u001b[37m\u001b[0m \u001b[1m1s\u001b[0m 3ms/step - loss: 0.0035 - mean_absolute_error: 0.0388 - mean_squared_error: 0.0035 - val_loss: 0.0033 - val_mean_absolute_error: 0.0371 - val_mean_squared_error: 0.0033\n",
      "Epoch 75/200\n",
      "\u001b[1m167/167\u001b[0m \u001b[32m━━━━━━━━━━━━━━━━━━━━\u001b[0m\u001b[37m\u001b[0m \u001b[1m1s\u001b[0m 3ms/step - loss: 0.0034 - mean_absolute_error: 0.0380 - mean_squared_error: 0.0034 - val_loss: 0.0033 - val_mean_absolute_error: 0.0380 - val_mean_squared_error: 0.0033\n",
      "Epoch 76/200\n",
      "\u001b[1m167/167\u001b[0m \u001b[32m━━━━━━━━━━━━━━━━━━━━\u001b[0m\u001b[37m\u001b[0m \u001b[1m1s\u001b[0m 4ms/step - loss: 0.0035 - mean_absolute_error: 0.0382 - mean_squared_error: 0.0035 - val_loss: 0.0032 - val_mean_absolute_error: 0.0348 - val_mean_squared_error: 0.0032\n",
      "Epoch 77/200\n",
      "\u001b[1m167/167\u001b[0m \u001b[32m━━━━━━━━━━━━━━━━━━━━\u001b[0m\u001b[37m\u001b[0m \u001b[1m1s\u001b[0m 4ms/step - loss: 0.0037 - mean_absolute_error: 0.0390 - mean_squared_error: 0.0037 - val_loss: 0.0033 - val_mean_absolute_error: 0.0358 - val_mean_squared_error: 0.0033\n",
      "Epoch 78/200\n",
      "\u001b[1m167/167\u001b[0m \u001b[32m━━━━━━━━━━━━━━━━━━━━\u001b[0m\u001b[37m\u001b[0m \u001b[1m1s\u001b[0m 3ms/step - loss: 0.0037 - mean_absolute_error: 0.0382 - mean_squared_error: 0.0037 - val_loss: 0.0039 - val_mean_absolute_error: 0.0379 - val_mean_squared_error: 0.0039\n",
      "Epoch 79/200\n",
      "\u001b[1m167/167\u001b[0m \u001b[32m━━━━━━━━━━━━━━━━━━━━\u001b[0m\u001b[37m\u001b[0m \u001b[1m1s\u001b[0m 4ms/step - loss: 0.0035 - mean_absolute_error: 0.0382 - mean_squared_error: 0.0035 - val_loss: 0.0034 - val_mean_absolute_error: 0.0365 - val_mean_squared_error: 0.0034\n",
      "Epoch 80/200\n",
      "\u001b[1m167/167\u001b[0m \u001b[32m━━━━━━━━━━━━━━━━━━━━\u001b[0m\u001b[37m\u001b[0m \u001b[1m1s\u001b[0m 3ms/step - loss: 0.0036 - mean_absolute_error: 0.0385 - mean_squared_error: 0.0036 - val_loss: 0.0034 - val_mean_absolute_error: 0.0361 - val_mean_squared_error: 0.0034\n",
      "Epoch 81/200\n",
      "\u001b[1m167/167\u001b[0m \u001b[32m━━━━━━━━━━━━━━━━━━━━\u001b[0m\u001b[37m\u001b[0m \u001b[1m1s\u001b[0m 3ms/step - loss: 0.0035 - mean_absolute_error: 0.0378 - mean_squared_error: 0.0035 - val_loss: 0.0033 - val_mean_absolute_error: 0.0363 - val_mean_squared_error: 0.0033\n",
      "Epoch 82/200\n",
      "\u001b[1m167/167\u001b[0m \u001b[32m━━━━━━━━━━━━━━━━━━━━\u001b[0m\u001b[37m\u001b[0m \u001b[1m1s\u001b[0m 3ms/step - loss: 0.0033 - mean_absolute_error: 0.0372 - mean_squared_error: 0.0033 - val_loss: 0.0039 - val_mean_absolute_error: 0.0405 - val_mean_squared_error: 0.0039\n",
      "Epoch 83/200\n",
      "\u001b[1m167/167\u001b[0m \u001b[32m━━━━━━━━━━━━━━━━━━━━\u001b[0m\u001b[37m\u001b[0m \u001b[1m1s\u001b[0m 3ms/step - loss: 0.0034 - mean_absolute_error: 0.0377 - mean_squared_error: 0.0034 - val_loss: 0.0032 - val_mean_absolute_error: 0.0333 - val_mean_squared_error: 0.0032\n",
      "Epoch 84/200\n",
      "\u001b[1m167/167\u001b[0m \u001b[32m━━━━━━━━━━━━━━━━━━━━\u001b[0m\u001b[37m\u001b[0m \u001b[1m1s\u001b[0m 3ms/step - loss: 0.0034 - mean_absolute_error: 0.0377 - mean_squared_error: 0.0034 - val_loss: 0.0033 - val_mean_absolute_error: 0.0356 - val_mean_squared_error: 0.0033\n",
      "Epoch 85/200\n",
      "\u001b[1m167/167\u001b[0m \u001b[32m━━━━━━━━━━━━━━━━━━━━\u001b[0m\u001b[37m\u001b[0m \u001b[1m1s\u001b[0m 3ms/step - loss: 0.0035 - mean_absolute_error: 0.0382 - mean_squared_error: 0.0035 - val_loss: 0.0035 - val_mean_absolute_error: 0.0371 - val_mean_squared_error: 0.0035\n",
      "Epoch 86/200\n",
      "\u001b[1m167/167\u001b[0m \u001b[32m━━━━━━━━━━━━━━━━━━━━\u001b[0m\u001b[37m\u001b[0m \u001b[1m1s\u001b[0m 3ms/step - loss: 0.0035 - mean_absolute_error: 0.0375 - mean_squared_error: 0.0035 - val_loss: 0.0033 - val_mean_absolute_error: 0.0370 - val_mean_squared_error: 0.0033\n",
      "Epoch 87/200\n",
      "\u001b[1m167/167\u001b[0m \u001b[32m━━━━━━━━━━━━━━━━━━━━\u001b[0m\u001b[37m\u001b[0m \u001b[1m1s\u001b[0m 3ms/step - loss: 0.0035 - mean_absolute_error: 0.0383 - mean_squared_error: 0.0035 - val_loss: 0.0034 - val_mean_absolute_error: 0.0376 - val_mean_squared_error: 0.0034\n",
      "Epoch 88/200\n",
      "\u001b[1m167/167\u001b[0m \u001b[32m━━━━━━━━━━━━━━━━━━━━\u001b[0m\u001b[37m\u001b[0m \u001b[1m1s\u001b[0m 3ms/step - loss: 0.0034 - mean_absolute_error: 0.0377 - mean_squared_error: 0.0034 - val_loss: 0.0036 - val_mean_absolute_error: 0.0383 - val_mean_squared_error: 0.0036\n",
      "Epoch 89/200\n",
      "\u001b[1m167/167\u001b[0m \u001b[32m━━━━━━━━━━━━━━━━━━━━\u001b[0m\u001b[37m\u001b[0m \u001b[1m1s\u001b[0m 3ms/step - loss: 0.0033 - mean_absolute_error: 0.0373 - mean_squared_error: 0.0033 - val_loss: 0.0036 - val_mean_absolute_error: 0.0376 - val_mean_squared_error: 0.0036\n",
      "Epoch 90/200\n",
      "\u001b[1m167/167\u001b[0m \u001b[32m━━━━━━━━━━━━━━━━━━━━\u001b[0m\u001b[37m\u001b[0m \u001b[1m1s\u001b[0m 3ms/step - loss: 0.0035 - mean_absolute_error: 0.0383 - mean_squared_error: 0.0035 - val_loss: 0.0034 - val_mean_absolute_error: 0.0361 - val_mean_squared_error: 0.0034\n",
      "Epoch 91/200\n",
      "\u001b[1m167/167\u001b[0m \u001b[32m━━━━━━━━━━━━━━━━━━━━\u001b[0m\u001b[37m\u001b[0m \u001b[1m1s\u001b[0m 3ms/step - loss: 0.0033 - mean_absolute_error: 0.0371 - mean_squared_error: 0.0033 - val_loss: 0.0033 - val_mean_absolute_error: 0.0358 - val_mean_squared_error: 0.0033\n",
      "Epoch 92/200\n",
      "\u001b[1m167/167\u001b[0m \u001b[32m━━━━━━━━━━━━━━━━━━━━\u001b[0m\u001b[37m\u001b[0m \u001b[1m1s\u001b[0m 3ms/step - loss: 0.0032 - mean_absolute_error: 0.0366 - mean_squared_error: 0.0032 - val_loss: 0.0033 - val_mean_absolute_error: 0.0368 - val_mean_squared_error: 0.0033\n",
      "Epoch 93/200\n",
      "\u001b[1m167/167\u001b[0m \u001b[32m━━━━━━━━━━━━━━━━━━━━\u001b[0m\u001b[37m\u001b[0m \u001b[1m1s\u001b[0m 3ms/step - loss: 0.0033 - mean_absolute_error: 0.0367 - mean_squared_error: 0.0033 - val_loss: 0.0035 - val_mean_absolute_error: 0.0379 - val_mean_squared_error: 0.0035\n",
      "Epoch 94/200\n",
      "\u001b[1m167/167\u001b[0m \u001b[32m━━━━━━━━━━━━━━━━━━━━\u001b[0m\u001b[37m\u001b[0m \u001b[1m1s\u001b[0m 3ms/step - loss: 0.0036 - mean_absolute_error: 0.0385 - mean_squared_error: 0.0036 - val_loss: 0.0032 - val_mean_absolute_error: 0.0351 - val_mean_squared_error: 0.0032\n",
      "Epoch 95/200\n",
      "\u001b[1m167/167\u001b[0m \u001b[32m━━━━━━━━━━━━━━━━━━━━\u001b[0m\u001b[37m\u001b[0m \u001b[1m1s\u001b[0m 3ms/step - loss: 0.0033 - mean_absolute_error: 0.0371 - mean_squared_error: 0.0033 - val_loss: 0.0032 - val_mean_absolute_error: 0.0362 - val_mean_squared_error: 0.0032\n",
      "Epoch 96/200\n",
      "\u001b[1m167/167\u001b[0m \u001b[32m━━━━━━━━━━━━━━━━━━━━\u001b[0m\u001b[37m\u001b[0m \u001b[1m1s\u001b[0m 3ms/step - loss: 0.0035 - mean_absolute_error: 0.0375 - mean_squared_error: 0.0035 - val_loss: 0.0033 - val_mean_absolute_error: 0.0362 - val_mean_squared_error: 0.0033\n",
      "Epoch 97/200\n",
      "\u001b[1m167/167\u001b[0m \u001b[32m━━━━━━━━━━━━━━━━━━━━\u001b[0m\u001b[37m\u001b[0m \u001b[1m1s\u001b[0m 3ms/step - loss: 0.0034 - mean_absolute_error: 0.0379 - mean_squared_error: 0.0034 - val_loss: 0.0037 - val_mean_absolute_error: 0.0374 - val_mean_squared_error: 0.0037\n",
      "Epoch 98/200\n",
      "\u001b[1m167/167\u001b[0m \u001b[32m━━━━━━━━━━━━━━━━━━━━\u001b[0m\u001b[37m\u001b[0m \u001b[1m1s\u001b[0m 3ms/step - loss: 0.0035 - mean_absolute_error: 0.0375 - mean_squared_error: 0.0035 - val_loss: 0.0033 - val_mean_absolute_error: 0.0354 - val_mean_squared_error: 0.0033\n",
      "Epoch 99/200\n",
      "\u001b[1m167/167\u001b[0m \u001b[32m━━━━━━━━━━━━━━━━━━━━\u001b[0m\u001b[37m\u001b[0m \u001b[1m1s\u001b[0m 3ms/step - loss: 0.0036 - mean_absolute_error: 0.0382 - mean_squared_error: 0.0036 - val_loss: 0.0034 - val_mean_absolute_error: 0.0389 - val_mean_squared_error: 0.0034\n",
      "Epoch 100/200\n",
      "\u001b[1m167/167\u001b[0m \u001b[32m━━━━━━━━━━━━━━━━━━━━\u001b[0m\u001b[37m\u001b[0m \u001b[1m1s\u001b[0m 3ms/step - loss: 0.0036 - mean_absolute_error: 0.0386 - mean_squared_error: 0.0036 - val_loss: 0.0034 - val_mean_absolute_error: 0.0358 - val_mean_squared_error: 0.0034\n",
      "Epoch 101/200\n",
      "\u001b[1m167/167\u001b[0m \u001b[32m━━━━━━━━━━━━━━━━━━━━\u001b[0m\u001b[37m\u001b[0m \u001b[1m1s\u001b[0m 3ms/step - loss: 0.0032 - mean_absolute_error: 0.0360 - mean_squared_error: 0.0032 - val_loss: 0.0037 - val_mean_absolute_error: 0.0384 - val_mean_squared_error: 0.0037\n",
      "Epoch 102/200\n",
      "\u001b[1m167/167\u001b[0m \u001b[32m━━━━━━━━━━━━━━━━━━━━\u001b[0m\u001b[37m\u001b[0m \u001b[1m1s\u001b[0m 3ms/step - loss: 0.0031 - mean_absolute_error: 0.0361 - mean_squared_error: 0.0031 - val_loss: 0.0037 - val_mean_absolute_error: 0.0376 - val_mean_squared_error: 0.0037\n",
      "Epoch 103/200\n",
      "\u001b[1m167/167\u001b[0m \u001b[32m━━━━━━━━━━━━━━━━━━━━\u001b[0m\u001b[37m\u001b[0m \u001b[1m1s\u001b[0m 4ms/step - loss: 0.0034 - mean_absolute_error: 0.0375 - mean_squared_error: 0.0034 - val_loss: 0.0037 - val_mean_absolute_error: 0.0384 - val_mean_squared_error: 0.0037\n",
      "Epoch 104/200\n",
      "\u001b[1m167/167\u001b[0m \u001b[32m━━━━━━━━━━━━━━━━━━━━\u001b[0m\u001b[37m\u001b[0m \u001b[1m1s\u001b[0m 3ms/step - loss: 0.0037 - mean_absolute_error: 0.0389 - mean_squared_error: 0.0037 - val_loss: 0.0034 - val_mean_absolute_error: 0.0366 - val_mean_squared_error: 0.0034\n",
      "Epoch 105/200\n",
      "\u001b[1m167/167\u001b[0m \u001b[32m━━━━━━━━━━━━━━━━━━━━\u001b[0m\u001b[37m\u001b[0m \u001b[1m1s\u001b[0m 4ms/step - loss: 0.0036 - mean_absolute_error: 0.0381 - mean_squared_error: 0.0036 - val_loss: 0.0031 - val_mean_absolute_error: 0.0354 - val_mean_squared_error: 0.0031\n",
      "Epoch 106/200\n",
      "\u001b[1m167/167\u001b[0m \u001b[32m━━━━━━━━━━━━━━━━━━━━\u001b[0m\u001b[37m\u001b[0m \u001b[1m1s\u001b[0m 3ms/step - loss: 0.0036 - mean_absolute_error: 0.0382 - mean_squared_error: 0.0036 - val_loss: 0.0034 - val_mean_absolute_error: 0.0366 - val_mean_squared_error: 0.0034\n",
      "Epoch 107/200\n",
      "\u001b[1m167/167\u001b[0m \u001b[32m━━━━━━━━━━━━━━━━━━━━\u001b[0m\u001b[37m\u001b[0m \u001b[1m1s\u001b[0m 4ms/step - loss: 0.0034 - mean_absolute_error: 0.0368 - mean_squared_error: 0.0034 - val_loss: 0.0037 - val_mean_absolute_error: 0.0379 - val_mean_squared_error: 0.0037\n",
      "Epoch 108/200\n",
      "\u001b[1m167/167\u001b[0m \u001b[32m━━━━━━━━━━━━━━━━━━━━\u001b[0m\u001b[37m\u001b[0m \u001b[1m1s\u001b[0m 3ms/step - loss: 0.0037 - mean_absolute_error: 0.0391 - mean_squared_error: 0.0037 - val_loss: 0.0033 - val_mean_absolute_error: 0.0347 - val_mean_squared_error: 0.0033\n",
      "Epoch 109/200\n",
      "\u001b[1m167/167\u001b[0m \u001b[32m━━━━━━━━━━━━━━━━━━━━\u001b[0m\u001b[37m\u001b[0m \u001b[1m1s\u001b[0m 3ms/step - loss: 0.0037 - mean_absolute_error: 0.0393 - mean_squared_error: 0.0037 - val_loss: 0.0033 - val_mean_absolute_error: 0.0371 - val_mean_squared_error: 0.0033\n",
      "Epoch 110/200\n",
      "\u001b[1m167/167\u001b[0m \u001b[32m━━━━━━━━━━━━━━━━━━━━\u001b[0m\u001b[37m\u001b[0m \u001b[1m1s\u001b[0m 3ms/step - loss: 0.0036 - mean_absolute_error: 0.0385 - mean_squared_error: 0.0036 - val_loss: 0.0036 - val_mean_absolute_error: 0.0370 - val_mean_squared_error: 0.0036\n",
      "Epoch 111/200\n",
      "\u001b[1m167/167\u001b[0m \u001b[32m━━━━━━━━━━━━━━━━━━━━\u001b[0m\u001b[37m\u001b[0m \u001b[1m1s\u001b[0m 3ms/step - loss: 0.0034 - mean_absolute_error: 0.0381 - mean_squared_error: 0.0034 - val_loss: 0.0035 - val_mean_absolute_error: 0.0387 - val_mean_squared_error: 0.0035\n",
      "Epoch 112/200\n",
      "\u001b[1m167/167\u001b[0m \u001b[32m━━━━━━━━━━━━━━━━━━━━\u001b[0m\u001b[37m\u001b[0m \u001b[1m1s\u001b[0m 3ms/step - loss: 0.0031 - mean_absolute_error: 0.0361 - mean_squared_error: 0.0031 - val_loss: 0.0034 - val_mean_absolute_error: 0.0383 - val_mean_squared_error: 0.0034\n",
      "Epoch 113/200\n",
      "\u001b[1m167/167\u001b[0m \u001b[32m━━━━━━━━━━━━━━━━━━━━\u001b[0m\u001b[37m\u001b[0m \u001b[1m1s\u001b[0m 3ms/step - loss: 0.0035 - mean_absolute_error: 0.0377 - mean_squared_error: 0.0035 - val_loss: 0.0034 - val_mean_absolute_error: 0.0361 - val_mean_squared_error: 0.0034\n",
      "Epoch 114/200\n",
      "\u001b[1m167/167\u001b[0m \u001b[32m━━━━━━━━━━━━━━━━━━━━\u001b[0m\u001b[37m\u001b[0m \u001b[1m1s\u001b[0m 3ms/step - loss: 0.0034 - mean_absolute_error: 0.0376 - mean_squared_error: 0.0034 - val_loss: 0.0033 - val_mean_absolute_error: 0.0369 - val_mean_squared_error: 0.0033\n",
      "Epoch 115/200\n",
      "\u001b[1m167/167\u001b[0m \u001b[32m━━━━━━━━━━━━━━━━━━━━\u001b[0m\u001b[37m\u001b[0m \u001b[1m1s\u001b[0m 3ms/step - loss: 0.0036 - mean_absolute_error: 0.0378 - mean_squared_error: 0.0036 - val_loss: 0.0033 - val_mean_absolute_error: 0.0353 - val_mean_squared_error: 0.0033\n",
      "Epoch 116/200\n",
      "\u001b[1m167/167\u001b[0m \u001b[32m━━━━━━━━━━━━━━━━━━━━\u001b[0m\u001b[37m\u001b[0m \u001b[1m1s\u001b[0m 3ms/step - loss: 0.0037 - mean_absolute_error: 0.0386 - mean_squared_error: 0.0037 - val_loss: 0.0034 - val_mean_absolute_error: 0.0357 - val_mean_squared_error: 0.0034\n",
      "Epoch 117/200\n",
      "\u001b[1m167/167\u001b[0m \u001b[32m━━━━━━━━━━━━━━━━━━━━\u001b[0m\u001b[37m\u001b[0m \u001b[1m1s\u001b[0m 3ms/step - loss: 0.0036 - mean_absolute_error: 0.0389 - mean_squared_error: 0.0036 - val_loss: 0.0034 - val_mean_absolute_error: 0.0376 - val_mean_squared_error: 0.0034\n",
      "Epoch 118/200\n",
      "\u001b[1m167/167\u001b[0m \u001b[32m━━━━━━━━━━━━━━━━━━━━\u001b[0m\u001b[37m\u001b[0m \u001b[1m1s\u001b[0m 3ms/step - loss: 0.0035 - mean_absolute_error: 0.0373 - mean_squared_error: 0.0035 - val_loss: 0.0033 - val_mean_absolute_error: 0.0375 - val_mean_squared_error: 0.0033\n",
      "Epoch 119/200\n",
      "\u001b[1m167/167\u001b[0m \u001b[32m━━━━━━━━━━━━━━━━━━━━\u001b[0m\u001b[37m\u001b[0m \u001b[1m1s\u001b[0m 3ms/step - loss: 0.0034 - mean_absolute_error: 0.0377 - mean_squared_error: 0.0034 - val_loss: 0.0035 - val_mean_absolute_error: 0.0362 - val_mean_squared_error: 0.0035\n",
      "Epoch 120/200\n",
      "\u001b[1m167/167\u001b[0m \u001b[32m━━━━━━━━━━━━━━━━━━━━\u001b[0m\u001b[37m\u001b[0m \u001b[1m1s\u001b[0m 3ms/step - loss: 0.0036 - mean_absolute_error: 0.0386 - mean_squared_error: 0.0036 - val_loss: 0.0036 - val_mean_absolute_error: 0.0391 - val_mean_squared_error: 0.0036\n",
      "Epoch 121/200\n",
      "\u001b[1m167/167\u001b[0m \u001b[32m━━━━━━━━━━━━━━━━━━━━\u001b[0m\u001b[37m\u001b[0m \u001b[1m1s\u001b[0m 3ms/step - loss: 0.0033 - mean_absolute_error: 0.0373 - mean_squared_error: 0.0033 - val_loss: 0.0034 - val_mean_absolute_error: 0.0361 - val_mean_squared_error: 0.0034\n",
      "Epoch 122/200\n",
      "\u001b[1m167/167\u001b[0m \u001b[32m━━━━━━━━━━━━━━━━━━━━\u001b[0m\u001b[37m\u001b[0m \u001b[1m1s\u001b[0m 3ms/step - loss: 0.0033 - mean_absolute_error: 0.0366 - mean_squared_error: 0.0033 - val_loss: 0.0035 - val_mean_absolute_error: 0.0374 - val_mean_squared_error: 0.0035\n",
      "Epoch 123/200\n",
      "\u001b[1m167/167\u001b[0m \u001b[32m━━━━━━━━━━━━━━━━━━━━\u001b[0m\u001b[37m\u001b[0m \u001b[1m1s\u001b[0m 3ms/step - loss: 0.0034 - mean_absolute_error: 0.0373 - mean_squared_error: 0.0034 - val_loss: 0.0036 - val_mean_absolute_error: 0.0389 - val_mean_squared_error: 0.0036\n",
      "Epoch 124/200\n",
      "\u001b[1m167/167\u001b[0m \u001b[32m━━━━━━━━━━━━━━━━━━━━\u001b[0m\u001b[37m\u001b[0m \u001b[1m1s\u001b[0m 3ms/step - loss: 0.0033 - mean_absolute_error: 0.0373 - mean_squared_error: 0.0033 - val_loss: 0.0036 - val_mean_absolute_error: 0.0394 - val_mean_squared_error: 0.0036\n",
      "Epoch 125/200\n",
      "\u001b[1m167/167\u001b[0m \u001b[32m━━━━━━━━━━━━━━━━━━━━\u001b[0m\u001b[37m\u001b[0m \u001b[1m1s\u001b[0m 3ms/step - loss: 0.0035 - mean_absolute_error: 0.0383 - mean_squared_error: 0.0035 - val_loss: 0.0034 - val_mean_absolute_error: 0.0367 - val_mean_squared_error: 0.0034\n",
      "Epoch 126/200\n",
      "\u001b[1m167/167\u001b[0m \u001b[32m━━━━━━━━━━━━━━━━━━━━\u001b[0m\u001b[37m\u001b[0m \u001b[1m1s\u001b[0m 3ms/step - loss: 0.0035 - mean_absolute_error: 0.0384 - mean_squared_error: 0.0035 - val_loss: 0.0035 - val_mean_absolute_error: 0.0378 - val_mean_squared_error: 0.0035\n",
      "Epoch 127/200\n",
      "\u001b[1m167/167\u001b[0m \u001b[32m━━━━━━━━━━━━━━━━━━━━\u001b[0m\u001b[37m\u001b[0m \u001b[1m1s\u001b[0m 3ms/step - loss: 0.0035 - mean_absolute_error: 0.0381 - mean_squared_error: 0.0035 - val_loss: 0.0034 - val_mean_absolute_error: 0.0392 - val_mean_squared_error: 0.0034\n",
      "Epoch 128/200\n",
      "\u001b[1m167/167\u001b[0m \u001b[32m━━━━━━━━━━━━━━━━━━━━\u001b[0m\u001b[37m\u001b[0m \u001b[1m1s\u001b[0m 3ms/step - loss: 0.0035 - mean_absolute_error: 0.0377 - mean_squared_error: 0.0035 - val_loss: 0.0034 - val_mean_absolute_error: 0.0373 - val_mean_squared_error: 0.0034\n",
      "Epoch 129/200\n",
      "\u001b[1m167/167\u001b[0m \u001b[32m━━━━━━━━━━━━━━━━━━━━\u001b[0m\u001b[37m\u001b[0m \u001b[1m1s\u001b[0m 3ms/step - loss: 0.0033 - mean_absolute_error: 0.0364 - mean_squared_error: 0.0033 - val_loss: 0.0036 - val_mean_absolute_error: 0.0393 - val_mean_squared_error: 0.0036\n",
      "Epoch 130/200\n",
      "\u001b[1m167/167\u001b[0m \u001b[32m━━━━━━━━━━━━━━━━━━━━\u001b[0m\u001b[37m\u001b[0m \u001b[1m1s\u001b[0m 4ms/step - loss: 0.0035 - mean_absolute_error: 0.0380 - mean_squared_error: 0.0035 - val_loss: 0.0037 - val_mean_absolute_error: 0.0399 - val_mean_squared_error: 0.0037\n",
      "Epoch 131/200\n",
      "\u001b[1m167/167\u001b[0m \u001b[32m━━━━━━━━━━━━━━━━━━━━\u001b[0m\u001b[37m\u001b[0m \u001b[1m1s\u001b[0m 3ms/step - loss: 0.0034 - mean_absolute_error: 0.0381 - mean_squared_error: 0.0034 - val_loss: 0.0032 - val_mean_absolute_error: 0.0355 - val_mean_squared_error: 0.0032\n",
      "Epoch 132/200\n",
      "\u001b[1m167/167\u001b[0m \u001b[32m━━━━━━━━━━━━━━━━━━━━\u001b[0m\u001b[37m\u001b[0m \u001b[1m1s\u001b[0m 3ms/step - loss: 0.0034 - mean_absolute_error: 0.0367 - mean_squared_error: 0.0034 - val_loss: 0.0034 - val_mean_absolute_error: 0.0388 - val_mean_squared_error: 0.0034\n",
      "Epoch 133/200\n",
      "\u001b[1m167/167\u001b[0m \u001b[32m━━━━━━━━━━━━━━━━━━━━\u001b[0m\u001b[37m\u001b[0m \u001b[1m1s\u001b[0m 4ms/step - loss: 0.0032 - mean_absolute_error: 0.0367 - mean_squared_error: 0.0032 - val_loss: 0.0035 - val_mean_absolute_error: 0.0374 - val_mean_squared_error: 0.0035\n",
      "Epoch 134/200\n",
      "\u001b[1m167/167\u001b[0m \u001b[32m━━━━━━━━━━━━━━━━━━━━\u001b[0m\u001b[37m\u001b[0m \u001b[1m1s\u001b[0m 3ms/step - loss: 0.0032 - mean_absolute_error: 0.0371 - mean_squared_error: 0.0032 - val_loss: 0.0035 - val_mean_absolute_error: 0.0397 - val_mean_squared_error: 0.0035\n",
      "Epoch 135/200\n",
      "\u001b[1m167/167\u001b[0m \u001b[32m━━━━━━━━━━━━━━━━━━━━\u001b[0m\u001b[37m\u001b[0m \u001b[1m1s\u001b[0m 3ms/step - loss: 0.0033 - mean_absolute_error: 0.0370 - mean_squared_error: 0.0033 - val_loss: 0.0036 - val_mean_absolute_error: 0.0383 - val_mean_squared_error: 0.0036\n",
      "Epoch 136/200\n",
      "\u001b[1m167/167\u001b[0m \u001b[32m━━━━━━━━━━━━━━━━━━━━\u001b[0m\u001b[37m\u001b[0m \u001b[1m1s\u001b[0m 3ms/step - loss: 0.0037 - mean_absolute_error: 0.0381 - mean_squared_error: 0.0037 - val_loss: 0.0034 - val_mean_absolute_error: 0.0369 - val_mean_squared_error: 0.0034\n",
      "Epoch 137/200\n",
      "\u001b[1m167/167\u001b[0m \u001b[32m━━━━━━━━━━━━━━━━━━━━\u001b[0m\u001b[37m\u001b[0m \u001b[1m1s\u001b[0m 3ms/step - loss: 0.0034 - mean_absolute_error: 0.0369 - mean_squared_error: 0.0034 - val_loss: 0.0034 - val_mean_absolute_error: 0.0385 - val_mean_squared_error: 0.0034\n",
      "Epoch 138/200\n",
      "\u001b[1m167/167\u001b[0m \u001b[32m━━━━━━━━━━━━━━━━━━━━\u001b[0m\u001b[37m\u001b[0m \u001b[1m1s\u001b[0m 3ms/step - loss: 0.0035 - mean_absolute_error: 0.0382 - mean_squared_error: 0.0035 - val_loss: 0.0034 - val_mean_absolute_error: 0.0375 - val_mean_squared_error: 0.0034\n",
      "Epoch 139/200\n",
      "\u001b[1m167/167\u001b[0m \u001b[32m━━━━━━━━━━━━━━━━━━━━\u001b[0m\u001b[37m\u001b[0m \u001b[1m1s\u001b[0m 3ms/step - loss: 0.0031 - mean_absolute_error: 0.0360 - mean_squared_error: 0.0031 - val_loss: 0.0033 - val_mean_absolute_error: 0.0375 - val_mean_squared_error: 0.0033\n",
      "Epoch 140/200\n",
      "\u001b[1m167/167\u001b[0m \u001b[32m━━━━━━━━━━━━━━━━━━━━\u001b[0m\u001b[37m\u001b[0m \u001b[1m1s\u001b[0m 3ms/step - loss: 0.0034 - mean_absolute_error: 0.0372 - mean_squared_error: 0.0034 - val_loss: 0.0033 - val_mean_absolute_error: 0.0370 - val_mean_squared_error: 0.0033\n",
      "Epoch 141/200\n",
      "\u001b[1m167/167\u001b[0m \u001b[32m━━━━━━━━━━━━━━━━━━━━\u001b[0m\u001b[37m\u001b[0m \u001b[1m1s\u001b[0m 3ms/step - loss: 0.0032 - mean_absolute_error: 0.0361 - mean_squared_error: 0.0032 - val_loss: 0.0033 - val_mean_absolute_error: 0.0360 - val_mean_squared_error: 0.0033\n",
      "Epoch 142/200\n",
      "\u001b[1m167/167\u001b[0m \u001b[32m━━━━━━━━━━━━━━━━━━━━\u001b[0m\u001b[37m\u001b[0m \u001b[1m1s\u001b[0m 3ms/step - loss: 0.0033 - mean_absolute_error: 0.0366 - mean_squared_error: 0.0033 - val_loss: 0.0035 - val_mean_absolute_error: 0.0379 - val_mean_squared_error: 0.0035\n",
      "Epoch 143/200\n",
      "\u001b[1m167/167\u001b[0m \u001b[32m━━━━━━━━━━━━━━━━━━━━\u001b[0m\u001b[37m\u001b[0m \u001b[1m1s\u001b[0m 3ms/step - loss: 0.0033 - mean_absolute_error: 0.0368 - mean_squared_error: 0.0033 - val_loss: 0.0034 - val_mean_absolute_error: 0.0372 - val_mean_squared_error: 0.0034\n",
      "Epoch 144/200\n",
      "\u001b[1m167/167\u001b[0m \u001b[32m━━━━━━━━━━━━━━━━━━━━\u001b[0m\u001b[37m\u001b[0m \u001b[1m1s\u001b[0m 3ms/step - loss: 0.0034 - mean_absolute_error: 0.0371 - mean_squared_error: 0.0034 - val_loss: 0.0034 - val_mean_absolute_error: 0.0369 - val_mean_squared_error: 0.0034\n",
      "Epoch 145/200\n",
      "\u001b[1m167/167\u001b[0m \u001b[32m━━━━━━━━━━━━━━━━━━━━\u001b[0m\u001b[37m\u001b[0m \u001b[1m1s\u001b[0m 3ms/step - loss: 0.0037 - mean_absolute_error: 0.0385 - mean_squared_error: 0.0037 - val_loss: 0.0035 - val_mean_absolute_error: 0.0384 - val_mean_squared_error: 0.0035\n",
      "Epoch 146/200\n",
      "\u001b[1m167/167\u001b[0m \u001b[32m━━━━━━━━━━━━━━━━━━━━\u001b[0m\u001b[37m\u001b[0m \u001b[1m1s\u001b[0m 3ms/step - loss: 0.0032 - mean_absolute_error: 0.0366 - mean_squared_error: 0.0032 - val_loss: 0.0037 - val_mean_absolute_error: 0.0381 - val_mean_squared_error: 0.0037\n",
      "Epoch 147/200\n",
      "\u001b[1m167/167\u001b[0m \u001b[32m━━━━━━━━━━━━━━━━━━━━\u001b[0m\u001b[37m\u001b[0m \u001b[1m1s\u001b[0m 3ms/step - loss: 0.0035 - mean_absolute_error: 0.0382 - mean_squared_error: 0.0035 - val_loss: 0.0033 - val_mean_absolute_error: 0.0392 - val_mean_squared_error: 0.0033\n",
      "Epoch 148/200\n",
      "\u001b[1m167/167\u001b[0m \u001b[32m━━━━━━━━━━━━━━━━━━━━\u001b[0m\u001b[37m\u001b[0m \u001b[1m1s\u001b[0m 3ms/step - loss: 0.0037 - mean_absolute_error: 0.0389 - mean_squared_error: 0.0037 - val_loss: 0.0034 - val_mean_absolute_error: 0.0380 - val_mean_squared_error: 0.0034\n",
      "Epoch 149/200\n",
      "\u001b[1m167/167\u001b[0m \u001b[32m━━━━━━━━━━━━━━━━━━━━\u001b[0m\u001b[37m\u001b[0m \u001b[1m1s\u001b[0m 3ms/step - loss: 0.0035 - mean_absolute_error: 0.0376 - mean_squared_error: 0.0035 - val_loss: 0.0042 - val_mean_absolute_error: 0.0381 - val_mean_squared_error: 0.0042\n",
      "Epoch 150/200\n",
      "\u001b[1m167/167\u001b[0m \u001b[32m━━━━━━━━━━━━━━━━━━━━\u001b[0m\u001b[37m\u001b[0m \u001b[1m1s\u001b[0m 3ms/step - loss: 0.0033 - mean_absolute_error: 0.0367 - mean_squared_error: 0.0033 - val_loss: 0.0032 - val_mean_absolute_error: 0.0368 - val_mean_squared_error: 0.0032\n",
      "Epoch 151/200\n",
      "\u001b[1m167/167\u001b[0m \u001b[32m━━━━━━━━━━━━━━━━━━━━\u001b[0m\u001b[37m\u001b[0m \u001b[1m1s\u001b[0m 3ms/step - loss: 0.0036 - mean_absolute_error: 0.0381 - mean_squared_error: 0.0036 - val_loss: 0.0038 - val_mean_absolute_error: 0.0395 - val_mean_squared_error: 0.0038\n",
      "Epoch 152/200\n",
      "\u001b[1m167/167\u001b[0m \u001b[32m━━━━━━━━━━━━━━━━━━━━\u001b[0m\u001b[37m\u001b[0m \u001b[1m1s\u001b[0m 3ms/step - loss: 0.0035 - mean_absolute_error: 0.0375 - mean_squared_error: 0.0035 - val_loss: 0.0034 - val_mean_absolute_error: 0.0384 - val_mean_squared_error: 0.0034\n",
      "Epoch 153/200\n",
      "\u001b[1m167/167\u001b[0m \u001b[32m━━━━━━━━━━━━━━━━━━━━\u001b[0m\u001b[37m\u001b[0m \u001b[1m1s\u001b[0m 3ms/step - loss: 0.0035 - mean_absolute_error: 0.0379 - mean_squared_error: 0.0035 - val_loss: 0.0035 - val_mean_absolute_error: 0.0369 - val_mean_squared_error: 0.0035\n",
      "Epoch 154/200\n",
      "\u001b[1m167/167\u001b[0m \u001b[32m━━━━━━━━━━━━━━━━━━━━\u001b[0m\u001b[37m\u001b[0m \u001b[1m1s\u001b[0m 3ms/step - loss: 0.0035 - mean_absolute_error: 0.0382 - mean_squared_error: 0.0035 - val_loss: 0.0036 - val_mean_absolute_error: 0.0398 - val_mean_squared_error: 0.0036\n",
      "Epoch 155/200\n",
      "\u001b[1m167/167\u001b[0m \u001b[32m━━━━━━━━━━━━━━━━━━━━\u001b[0m\u001b[37m\u001b[0m \u001b[1m1s\u001b[0m 3ms/step - loss: 0.0033 - mean_absolute_error: 0.0371 - mean_squared_error: 0.0033 - val_loss: 0.0035 - val_mean_absolute_error: 0.0401 - val_mean_squared_error: 0.0035\n",
      "Epoch 156/200\n",
      "\u001b[1m167/167\u001b[0m \u001b[32m━━━━━━━━━━━━━━━━━━━━\u001b[0m\u001b[37m\u001b[0m \u001b[1m1s\u001b[0m 4ms/step - loss: 0.0033 - mean_absolute_error: 0.0376 - mean_squared_error: 0.0033 - val_loss: 0.0035 - val_mean_absolute_error: 0.0392 - val_mean_squared_error: 0.0035\n",
      "Epoch 157/200\n",
      "\u001b[1m167/167\u001b[0m \u001b[32m━━━━━━━━━━━━━━━━━━━━\u001b[0m\u001b[37m\u001b[0m \u001b[1m1s\u001b[0m 5ms/step - loss: 0.0033 - mean_absolute_error: 0.0371 - mean_squared_error: 0.0033 - val_loss: 0.0035 - val_mean_absolute_error: 0.0389 - val_mean_squared_error: 0.0035\n",
      "Epoch 158/200\n",
      "\u001b[1m167/167\u001b[0m \u001b[32m━━━━━━━━━━━━━━━━━━━━\u001b[0m\u001b[37m\u001b[0m \u001b[1m1s\u001b[0m 4ms/step - loss: 0.0034 - mean_absolute_error: 0.0379 - mean_squared_error: 0.0034 - val_loss: 0.0034 - val_mean_absolute_error: 0.0363 - val_mean_squared_error: 0.0034\n",
      "Epoch 159/200\n",
      "\u001b[1m167/167\u001b[0m \u001b[32m━━━━━━━━━━━━━━━━━━━━\u001b[0m\u001b[37m\u001b[0m \u001b[1m1s\u001b[0m 4ms/step - loss: 0.0035 - mean_absolute_error: 0.0378 - mean_squared_error: 0.0035 - val_loss: 0.0035 - val_mean_absolute_error: 0.0401 - val_mean_squared_error: 0.0035\n",
      "Epoch 160/200\n",
      "\u001b[1m167/167\u001b[0m \u001b[32m━━━━━━━━━━━━━━━━━━━━\u001b[0m\u001b[37m\u001b[0m \u001b[1m1s\u001b[0m 3ms/step - loss: 0.0035 - mean_absolute_error: 0.0374 - mean_squared_error: 0.0035 - val_loss: 0.0038 - val_mean_absolute_error: 0.0402 - val_mean_squared_error: 0.0038\n",
      "Epoch 161/200\n",
      "\u001b[1m167/167\u001b[0m \u001b[32m━━━━━━━━━━━━━━━━━━━━\u001b[0m\u001b[37m\u001b[0m \u001b[1m1s\u001b[0m 4ms/step - loss: 0.0033 - mean_absolute_error: 0.0372 - mean_squared_error: 0.0033 - val_loss: 0.0035 - val_mean_absolute_error: 0.0366 - val_mean_squared_error: 0.0035\n",
      "Epoch 162/200\n",
      "\u001b[1m167/167\u001b[0m \u001b[32m━━━━━━━━━━━━━━━━━━━━\u001b[0m\u001b[37m\u001b[0m \u001b[1m1s\u001b[0m 3ms/step - loss: 0.0034 - mean_absolute_error: 0.0371 - mean_squared_error: 0.0034 - val_loss: 0.0039 - val_mean_absolute_error: 0.0373 - val_mean_squared_error: 0.0039\n",
      "Epoch 163/200\n",
      "\u001b[1m167/167\u001b[0m \u001b[32m━━━━━━━━━━━━━━━━━━━━\u001b[0m\u001b[37m\u001b[0m \u001b[1m1s\u001b[0m 3ms/step - loss: 0.0032 - mean_absolute_error: 0.0359 - mean_squared_error: 0.0032 - val_loss: 0.0035 - val_mean_absolute_error: 0.0380 - val_mean_squared_error: 0.0035\n",
      "Epoch 164/200\n",
      "\u001b[1m167/167\u001b[0m \u001b[32m━━━━━━━━━━━━━━━━━━━━\u001b[0m\u001b[37m\u001b[0m \u001b[1m1s\u001b[0m 3ms/step - loss: 0.0033 - mean_absolute_error: 0.0376 - mean_squared_error: 0.0033 - val_loss: 0.0032 - val_mean_absolute_error: 0.0359 - val_mean_squared_error: 0.0032\n",
      "Epoch 165/200\n",
      "\u001b[1m167/167\u001b[0m \u001b[32m━━━━━━━━━━━━━━━━━━━━\u001b[0m\u001b[37m\u001b[0m \u001b[1m1s\u001b[0m 3ms/step - loss: 0.0035 - mean_absolute_error: 0.0374 - mean_squared_error: 0.0035 - val_loss: 0.0036 - val_mean_absolute_error: 0.0378 - val_mean_squared_error: 0.0036\n",
      "Epoch 166/200\n",
      "\u001b[1m167/167\u001b[0m \u001b[32m━━━━━━━━━━━━━━━━━━━━\u001b[0m\u001b[37m\u001b[0m \u001b[1m1s\u001b[0m 3ms/step - loss: 0.0033 - mean_absolute_error: 0.0373 - mean_squared_error: 0.0033 - val_loss: 0.0034 - val_mean_absolute_error: 0.0371 - val_mean_squared_error: 0.0034\n",
      "Epoch 167/200\n",
      "\u001b[1m167/167\u001b[0m \u001b[32m━━━━━━━━━━━━━━━━━━━━\u001b[0m\u001b[37m\u001b[0m \u001b[1m1s\u001b[0m 3ms/step - loss: 0.0034 - mean_absolute_error: 0.0381 - mean_squared_error: 0.0034 - val_loss: 0.0034 - val_mean_absolute_error: 0.0387 - val_mean_squared_error: 0.0034\n",
      "Epoch 168/200\n",
      "\u001b[1m167/167\u001b[0m \u001b[32m━━━━━━━━━━━━━━━━━━━━\u001b[0m\u001b[37m\u001b[0m \u001b[1m1s\u001b[0m 3ms/step - loss: 0.0033 - mean_absolute_error: 0.0378 - mean_squared_error: 0.0033 - val_loss: 0.0036 - val_mean_absolute_error: 0.0374 - val_mean_squared_error: 0.0036\n",
      "Epoch 169/200\n",
      "\u001b[1m167/167\u001b[0m \u001b[32m━━━━━━━━━━━━━━━━━━━━\u001b[0m\u001b[37m\u001b[0m \u001b[1m1s\u001b[0m 3ms/step - loss: 0.0032 - mean_absolute_error: 0.0361 - mean_squared_error: 0.0032 - val_loss: 0.0035 - val_mean_absolute_error: 0.0377 - val_mean_squared_error: 0.0035\n",
      "Epoch 170/200\n",
      "\u001b[1m167/167\u001b[0m \u001b[32m━━━━━━━━━━━━━━━━━━━━\u001b[0m\u001b[37m\u001b[0m \u001b[1m1s\u001b[0m 3ms/step - loss: 0.0034 - mean_absolute_error: 0.0377 - mean_squared_error: 0.0034 - val_loss: 0.0036 - val_mean_absolute_error: 0.0371 - val_mean_squared_error: 0.0036\n",
      "Epoch 171/200\n",
      "\u001b[1m167/167\u001b[0m \u001b[32m━━━━━━━━━━━━━━━━━━━━\u001b[0m\u001b[37m\u001b[0m \u001b[1m1s\u001b[0m 3ms/step - loss: 0.0032 - mean_absolute_error: 0.0368 - mean_squared_error: 0.0032 - val_loss: 0.0036 - val_mean_absolute_error: 0.0386 - val_mean_squared_error: 0.0036\n",
      "Epoch 172/200\n",
      "\u001b[1m167/167\u001b[0m \u001b[32m━━━━━━━━━━━━━━━━━━━━\u001b[0m\u001b[37m\u001b[0m \u001b[1m1s\u001b[0m 3ms/step - loss: 0.0034 - mean_absolute_error: 0.0373 - mean_squared_error: 0.0034 - val_loss: 0.0034 - val_mean_absolute_error: 0.0366 - val_mean_squared_error: 0.0034\n",
      "Epoch 173/200\n",
      "\u001b[1m167/167\u001b[0m \u001b[32m━━━━━━━━━━━━━━━━━━━━\u001b[0m\u001b[37m\u001b[0m \u001b[1m1s\u001b[0m 3ms/step - loss: 0.0034 - mean_absolute_error: 0.0372 - mean_squared_error: 0.0034 - val_loss: 0.0032 - val_mean_absolute_error: 0.0372 - val_mean_squared_error: 0.0032\n",
      "Epoch 174/200\n",
      "\u001b[1m167/167\u001b[0m \u001b[32m━━━━━━━━━━━━━━━━━━━━\u001b[0m\u001b[37m\u001b[0m \u001b[1m1s\u001b[0m 3ms/step - loss: 0.0035 - mean_absolute_error: 0.0374 - mean_squared_error: 0.0035 - val_loss: 0.0034 - val_mean_absolute_error: 0.0380 - val_mean_squared_error: 0.0034\n",
      "Epoch 175/200\n",
      "\u001b[1m167/167\u001b[0m \u001b[32m━━━━━━━━━━━━━━━━━━━━\u001b[0m\u001b[37m\u001b[0m \u001b[1m1s\u001b[0m 3ms/step - loss: 0.0033 - mean_absolute_error: 0.0372 - mean_squared_error: 0.0033 - val_loss: 0.0033 - val_mean_absolute_error: 0.0355 - val_mean_squared_error: 0.0033\n",
      "Epoch 176/200\n",
      "\u001b[1m167/167\u001b[0m \u001b[32m━━━━━━━━━━━━━━━━━━━━\u001b[0m\u001b[37m\u001b[0m \u001b[1m1s\u001b[0m 3ms/step - loss: 0.0033 - mean_absolute_error: 0.0370 - mean_squared_error: 0.0033 - val_loss: 0.0035 - val_mean_absolute_error: 0.0373 - val_mean_squared_error: 0.0035\n",
      "Epoch 177/200\n",
      "\u001b[1m167/167\u001b[0m \u001b[32m━━━━━━━━━━━━━━━━━━━━\u001b[0m\u001b[37m\u001b[0m \u001b[1m1s\u001b[0m 3ms/step - loss: 0.0035 - mean_absolute_error: 0.0371 - mean_squared_error: 0.0035 - val_loss: 0.0033 - val_mean_absolute_error: 0.0380 - val_mean_squared_error: 0.0033\n",
      "Epoch 178/200\n",
      "\u001b[1m167/167\u001b[0m \u001b[32m━━━━━━━━━━━━━━━━━━━━\u001b[0m\u001b[37m\u001b[0m \u001b[1m1s\u001b[0m 3ms/step - loss: 0.0032 - mean_absolute_error: 0.0362 - mean_squared_error: 0.0032 - val_loss: 0.0034 - val_mean_absolute_error: 0.0364 - val_mean_squared_error: 0.0034\n",
      "Epoch 179/200\n",
      "\u001b[1m167/167\u001b[0m \u001b[32m━━━━━━━━━━━━━━━━━━━━\u001b[0m\u001b[37m\u001b[0m \u001b[1m1s\u001b[0m 3ms/step - loss: 0.0034 - mean_absolute_error: 0.0369 - mean_squared_error: 0.0034 - val_loss: 0.0036 - val_mean_absolute_error: 0.0391 - val_mean_squared_error: 0.0036\n",
      "Epoch 180/200\n",
      "\u001b[1m167/167\u001b[0m \u001b[32m━━━━━━━━━━━━━━━━━━━━\u001b[0m\u001b[37m\u001b[0m \u001b[1m1s\u001b[0m 4ms/step - loss: 0.0032 - mean_absolute_error: 0.0364 - mean_squared_error: 0.0032 - val_loss: 0.0036 - val_mean_absolute_error: 0.0374 - val_mean_squared_error: 0.0036\n",
      "Epoch 181/200\n",
      "\u001b[1m167/167\u001b[0m \u001b[32m━━━━━━━━━━━━━━━━━━━━\u001b[0m\u001b[37m\u001b[0m \u001b[1m1s\u001b[0m 3ms/step - loss: 0.0035 - mean_absolute_error: 0.0378 - mean_squared_error: 0.0035 - val_loss: 0.0035 - val_mean_absolute_error: 0.0377 - val_mean_squared_error: 0.0035\n",
      "Epoch 182/200\n",
      "\u001b[1m167/167\u001b[0m \u001b[32m━━━━━━━━━━━━━━━━━━━━\u001b[0m\u001b[37m\u001b[0m \u001b[1m1s\u001b[0m 3ms/step - loss: 0.0033 - mean_absolute_error: 0.0362 - mean_squared_error: 0.0033 - val_loss: 0.0035 - val_mean_absolute_error: 0.0393 - val_mean_squared_error: 0.0035\n",
      "Epoch 183/200\n",
      "\u001b[1m167/167\u001b[0m \u001b[32m━━━━━━━━━━━━━━━━━━━━\u001b[0m\u001b[37m\u001b[0m \u001b[1m1s\u001b[0m 4ms/step - loss: 0.0034 - mean_absolute_error: 0.0365 - mean_squared_error: 0.0034 - val_loss: 0.0032 - val_mean_absolute_error: 0.0350 - val_mean_squared_error: 0.0032\n",
      "Epoch 184/200\n",
      "\u001b[1m167/167\u001b[0m \u001b[32m━━━━━━━━━━━━━━━━━━━━\u001b[0m\u001b[37m\u001b[0m \u001b[1m1s\u001b[0m 4ms/step - loss: 0.0032 - mean_absolute_error: 0.0372 - mean_squared_error: 0.0032 - val_loss: 0.0033 - val_mean_absolute_error: 0.0365 - val_mean_squared_error: 0.0033\n",
      "Epoch 185/200\n",
      "\u001b[1m167/167\u001b[0m \u001b[32m━━━━━━━━━━━━━━━━━━━━\u001b[0m\u001b[37m\u001b[0m \u001b[1m1s\u001b[0m 3ms/step - loss: 0.0032 - mean_absolute_error: 0.0362 - mean_squared_error: 0.0032 - val_loss: 0.0033 - val_mean_absolute_error: 0.0363 - val_mean_squared_error: 0.0033\n",
      "Epoch 186/200\n",
      "\u001b[1m167/167\u001b[0m \u001b[32m━━━━━━━━━━━━━━━━━━━━\u001b[0m\u001b[37m\u001b[0m \u001b[1m1s\u001b[0m 3ms/step - loss: 0.0032 - mean_absolute_error: 0.0365 - mean_squared_error: 0.0032 - val_loss: 0.0035 - val_mean_absolute_error: 0.0395 - val_mean_squared_error: 0.0035\n",
      "Epoch 187/200\n",
      "\u001b[1m167/167\u001b[0m \u001b[32m━━━━━━━━━━━━━━━━━━━━\u001b[0m\u001b[37m\u001b[0m \u001b[1m1s\u001b[0m 4ms/step - loss: 0.0037 - mean_absolute_error: 0.0392 - mean_squared_error: 0.0037 - val_loss: 0.0033 - val_mean_absolute_error: 0.0358 - val_mean_squared_error: 0.0033\n",
      "Epoch 188/200\n",
      "\u001b[1m167/167\u001b[0m \u001b[32m━━━━━━━━━━━━━━━━━━━━\u001b[0m\u001b[37m\u001b[0m \u001b[1m1s\u001b[0m 3ms/step - loss: 0.0033 - mean_absolute_error: 0.0371 - mean_squared_error: 0.0033 - val_loss: 0.0034 - val_mean_absolute_error: 0.0391 - val_mean_squared_error: 0.0034\n",
      "Epoch 189/200\n",
      "\u001b[1m167/167\u001b[0m \u001b[32m━━━━━━━━━━━━━━━━━━━━\u001b[0m\u001b[37m\u001b[0m \u001b[1m1s\u001b[0m 3ms/step - loss: 0.0033 - mean_absolute_error: 0.0374 - mean_squared_error: 0.0033 - val_loss: 0.0033 - val_mean_absolute_error: 0.0375 - val_mean_squared_error: 0.0033\n",
      "Epoch 190/200\n",
      "\u001b[1m167/167\u001b[0m \u001b[32m━━━━━━━━━━━━━━━━━━━━\u001b[0m\u001b[37m\u001b[0m \u001b[1m1s\u001b[0m 3ms/step - loss: 0.0035 - mean_absolute_error: 0.0375 - mean_squared_error: 0.0035 - val_loss: 0.0034 - val_mean_absolute_error: 0.0374 - val_mean_squared_error: 0.0034\n",
      "Epoch 191/200\n",
      "\u001b[1m167/167\u001b[0m \u001b[32m━━━━━━━━━━━━━━━━━━━━\u001b[0m\u001b[37m\u001b[0m \u001b[1m1s\u001b[0m 3ms/step - loss: 0.0033 - mean_absolute_error: 0.0371 - mean_squared_error: 0.0033 - val_loss: 0.0034 - val_mean_absolute_error: 0.0388 - val_mean_squared_error: 0.0034\n",
      "Epoch 192/200\n",
      "\u001b[1m167/167\u001b[0m \u001b[32m━━━━━━━━━━━━━━━━━━━━\u001b[0m\u001b[37m\u001b[0m \u001b[1m1s\u001b[0m 3ms/step - loss: 0.0035 - mean_absolute_error: 0.0377 - mean_squared_error: 0.0035 - val_loss: 0.0036 - val_mean_absolute_error: 0.0367 - val_mean_squared_error: 0.0036\n",
      "Epoch 193/200\n",
      "\u001b[1m167/167\u001b[0m \u001b[32m━━━━━━━━━━━━━━━━━━━━\u001b[0m\u001b[37m\u001b[0m \u001b[1m1s\u001b[0m 3ms/step - loss: 0.0034 - mean_absolute_error: 0.0371 - mean_squared_error: 0.0034 - val_loss: 0.0034 - val_mean_absolute_error: 0.0379 - val_mean_squared_error: 0.0034\n",
      "Epoch 194/200\n",
      "\u001b[1m167/167\u001b[0m \u001b[32m━━━━━━━━━━━━━━━━━━━━\u001b[0m\u001b[37m\u001b[0m \u001b[1m1s\u001b[0m 3ms/step - loss: 0.0033 - mean_absolute_error: 0.0371 - mean_squared_error: 0.0033 - val_loss: 0.0037 - val_mean_absolute_error: 0.0367 - val_mean_squared_error: 0.0037\n",
      "Epoch 195/200\n",
      "\u001b[1m167/167\u001b[0m \u001b[32m━━━━━━━━━━━━━━━━━━━━\u001b[0m\u001b[37m\u001b[0m \u001b[1m1s\u001b[0m 3ms/step - loss: 0.0036 - mean_absolute_error: 0.0385 - mean_squared_error: 0.0036 - val_loss: 0.0038 - val_mean_absolute_error: 0.0397 - val_mean_squared_error: 0.0038\n",
      "Epoch 196/200\n",
      "\u001b[1m167/167\u001b[0m \u001b[32m━━━━━━━━━━━━━━━━━━━━\u001b[0m\u001b[37m\u001b[0m \u001b[1m1s\u001b[0m 3ms/step - loss: 0.0032 - mean_absolute_error: 0.0366 - mean_squared_error: 0.0032 - val_loss: 0.0035 - val_mean_absolute_error: 0.0358 - val_mean_squared_error: 0.0035\n",
      "Epoch 197/200\n",
      "\u001b[1m167/167\u001b[0m \u001b[32m━━━━━━━━━━━━━━━━━━━━\u001b[0m\u001b[37m\u001b[0m \u001b[1m1s\u001b[0m 3ms/step - loss: 0.0031 - mean_absolute_error: 0.0360 - mean_squared_error: 0.0031 - val_loss: 0.0035 - val_mean_absolute_error: 0.0347 - val_mean_squared_error: 0.0035\n",
      "Epoch 198/200\n",
      "\u001b[1m167/167\u001b[0m \u001b[32m━━━━━━━━━━━━━━━━━━━━\u001b[0m\u001b[37m\u001b[0m \u001b[1m1s\u001b[0m 3ms/step - loss: 0.0035 - mean_absolute_error: 0.0378 - mean_squared_error: 0.0035 - val_loss: 0.0037 - val_mean_absolute_error: 0.0382 - val_mean_squared_error: 0.0037\n",
      "Epoch 199/200\n",
      "\u001b[1m167/167\u001b[0m \u001b[32m━━━━━━━━━━━━━━━━━━━━\u001b[0m\u001b[37m\u001b[0m \u001b[1m1s\u001b[0m 3ms/step - loss: 0.0037 - mean_absolute_error: 0.0391 - mean_squared_error: 0.0037 - val_loss: 0.0034 - val_mean_absolute_error: 0.0386 - val_mean_squared_error: 0.0034\n",
      "Epoch 200/200\n",
      "\u001b[1m167/167\u001b[0m \u001b[32m━━━━━━━━━━━━━━━━━━━━\u001b[0m\u001b[37m\u001b[0m \u001b[1m1s\u001b[0m 3ms/step - loss: 0.0034 - mean_absolute_error: 0.0368 - mean_squared_error: 0.0034 - val_loss: 0.0036 - val_mean_absolute_error: 0.0377 - val_mean_squared_error: 0.0036\n"
     ]
    }
   ],
   "source": [
    "history=model.fit(train_data, train_target,epochs=200,validation_data=(test_data,test_target),callbacks=[checkpoint])"
   ]
  },
  {
   "cell_type": "code",
   "execution_count": 152,
   "id": "c625667c-5d6f-436a-ae7d-930ce9ac59b5",
   "metadata": {},
   "outputs": [
    {
     "data": {
      "image/png": "[encoded data removed]",
      "text/plain": [
       "<Figure size 640x480 with 1 Axes>"
      ]
     },
     "metadata": {},
     "output_type": "display_data"
    }
   ],
   "source": [
    "plt.plot(model.history.history['loss'])\n",
    "plt.plot(model.history.history['val_loss'])\n",
    "plt.xlabel('# epochs')\n",
    "plt.ylabel('loss')\n",
    "plt.show()"
   ]
  },
  {
   "cell_type": "code",
   "execution_count": 153,
   "id": "0b499387-4761-48c6-9406-496c0c1a6f3f",
   "metadata": {},
   "outputs": [
    {
     "name": "stdout",
     "output_type": "stream",
     "text": [
      "\u001b[1m42/42\u001b[0m \u001b[32m━━━━━━━━━━━━━━━━━━━━\u001b[0m\u001b[37m\u001b[0m \u001b[1m0s\u001b[0m 4ms/step\n",
      "r2 score: 0.8566973187921242\n"
     ]
    }
   ],
   "source": [
    "from sklearn.metrics import r2_score\n",
    "predicted_result=model.predict(test_data)\n",
    "r2=r2_score(test_target, predicted_result)\n",
    "print('r2 score:',r2)"
   ]
  },
  {
   "cell_type": "code",
   "execution_count": 154,
   "id": "f9a696eb-e000-42d5-a63a-17707f0b6249",
   "metadata": {},
   "outputs": [
    {
     "name": "stderr",
     "output_type": "stream",
     "text": [
      "WARNING:absl:You are saving your model as an HDF5 file via `model.save()` or `keras.saving.save_model(model)`. This file format is considered legacy. We recommend using instead the native Keras format, e.g. `model.save('my_model.keras')` or `keras.saving.save_model(model, 'my_model.keras')`. \n"
     ]
    }
   ],
   "source": [
    "# After training\n",
    "model.save('models/final_model.h5')"
   ]
  },
  {
   "cell_type": "code",
   "execution_count": 184,
   "id": "7104fa99-2878-490b-8a96-302a538abbf6",
   "metadata": {},
   "outputs": [
    {
     "name": "stdout",
     "output_type": "stream",
     "text": [
      "TensorFlow version: 2.17.0\n",
      "Keras version: 3.4.1\n"
     ]
    }
   ],
   "source": [
    "import tensorflow as tf\n",
    "from tensorflow import keras\n",
    "\n",
    "print(\"TensorFlow version:\", tf.__version__)\n",
    "print(\"Keras version:\", keras.__version__)\n"
   ]
  },
  {
   "cell_type": "code",
   "execution_count": 155,
   "id": "3c65d210-feb3-4f70-9d09-4e5a4c8831d0",
   "metadata": {},
   "outputs": [
    {
     "name": "stdout",
     "output_type": "stream",
     "text": [
      "actual: [[0.39390387 0.02813599 0.17350528 0.01992966 0.03282532 0.02227433\n",
      "  0.02696366 0.15474795 0.12543962 0.77842907]]\n",
      "predicted: [[0.34975255 0.04486356 0.28693786 0.040802   0.0969601  0.04886343\n",
      "  0.03585155 0.18867806 0.13880195 0.3716845 ]]\n"
     ]
    }
   ],
   "source": [
    "print('actual:', test_target[:10].T)\n",
    "print('predicted:',predicted_result[:10].T)"
   ]
  },
  {
   "cell_type": "code",
   "execution_count": 156,
   "id": "6a9cce1e-1a9e-4046-8ac1-f2b33a793447",
   "metadata": {},
   "outputs": [
    {
     "name": "stdout",
     "output_type": "stream",
     "text": [
      "actual inverse scaled: [[33.7  2.5 14.9  1.8  2.9  2.   2.4 13.3 10.8 66.5]]\n",
      "predicted inverse scaled: [[29.933891   3.9268618 24.5758     3.5804105  8.370696   4.26805\n",
      "   3.1581368 16.194239  11.939806  31.804688 ]]\n"
     ]
    }
   ],
   "source": [
    "print('actual inverse scaled:', scaler_target.inverse_transform(test_target[:10]).T)\n",
    "print('predicted inverse scaled:', scaler_target.inverse_transform(predicted_result[:10]).T)"
   ]
  },
  {
   "cell_type": "code",
   "execution_count": 157,
   "id": "f4606eba-812f-43bd-af37-0b0a7fbf8548",
   "metadata": {},
   "outputs": [
    {
     "data": {
      "text/plain": [
       "['scaler_target.sav']"
      ]
     },
     "execution_count": 157,
     "metadata": {},
     "output_type": "execute_result"
    }
   ],
   "source": [
    "import joblib\n",
    "joblib.dump(scaler_data,'scaler_data.sav')\n",
    "joblib.dump(scaler_target,'scaler_target.sav')"
   ]
  },
  {
   "cell_type": "code",
   "execution_count": null,
   "id": "096307b1-5a5a-4b63-b681-53abc6d4130f",
   "metadata": {},
   "outputs": [],
   "source": []
  },
  {
   "cell_type": "code",
   "execution_count": null,
   "id": "85d394ac-1565-4e6c-b8df-799015bcdb32",
   "metadata": {},
   "outputs": [],
   "source": []
  },
  {
   "cell_type": "code",
   "execution_count": null,
   "id": "b8ec377c-3751-4356-90a2-1850ba9d864b",
   "metadata": {},
   "outputs": [],
   "source": []
  },
  {
   "cell_type": "code",
   "execution_count": null,
   "id": "9e46b282-0bb6-4832-a13f-64f179aea78f",
   "metadata": {},
   "outputs": [],
   "source": []
  },
  {
   "cell_type": "code",
   "execution_count": null,
   "id": "ad95fcb1-637a-4bea-9ce9-c349b76b688b",
   "metadata": {},
   "outputs": [],
   "source": []
  },
  {
   "cell_type": "code",
   "execution_count": null,
   "id": "4903c60f-9605-4779-9f5a-d9ec5769a0a9",
   "metadata": {},
   "outputs": [],
   "source": []
  }
 ],
 "metadata": {
  "kernelspec": {
   "display_name": "Python 3 (ipykernel)",
   "language": "python",
   "name": "python3"
  },
  "language_info": {
   "codemirror_mode": {
    "name": "ipython",
    "version": 3
   },
   "file_extension": ".py",
   "mimetype": "text/x-python",
   "name": "python",
   "nbconvert_exporter": "python",
   "pygments_lexer": "ipython3",
   "version": "3.11.7"
  }
 },
 "nbformat": 4,
 "nbformat_minor": 5
}
